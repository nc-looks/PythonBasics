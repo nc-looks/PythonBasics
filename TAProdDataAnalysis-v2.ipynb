{
 "cells": [
  {
   "cell_type": "code",
   "execution_count": 1,
   "metadata": {
    "collapsed": true
   },
   "outputs": [],
   "source": [
    "# Importing Python Libraries\n",
    "import numpy as np\n",
    "import pandas as pd\n",
    "import seaborn as sns\n",
    "import matplotlib.pyplot as plt\n",
    "from tabulate import tabulate\n",
    "import plotly.plotly as py\n",
    "import plotly.figure_factory as ff\n",
    "import math\n",
    "from scipy.stats import norm\n",
    "from scipy import stats\n",
    "import csv\n",
    "from seaborn import timeseries\n",
    "from scipy.stats import spearmanr"
   ]
  },
  {
   "cell_type": "code",
   "execution_count": 2,
   "metadata": {
    "scrolled": true
   },
   "outputs": [
    {
     "data": {
      "text/html": [
       "<div>\n",
       "<style>\n",
       "    .dataframe thead tr:only-child th {\n",
       "        text-align: right;\n",
       "    }\n",
       "\n",
       "    .dataframe thead th {\n",
       "        text-align: left;\n",
       "    }\n",
       "\n",
       "    .dataframe tbody tr th {\n",
       "        vertical-align: top;\n",
       "    }\n",
       "</style>\n",
       "<table border=\"1\" class=\"dataframe\">\n",
       "  <thead>\n",
       "    <tr style=\"text-align: right;\">\n",
       "      <th></th>\n",
       "      <th>age</th>\n",
       "      <th>gender</th>\n",
       "      <th>salary</th>\n",
       "      <th>retirement_age</th>\n",
       "      <th>marital_status</th>\n",
       "      <th>state_of_residence</th>\n",
       "      <th>health_risk_score</th>\n",
       "      <th>salary_growth_rate</th>\n",
       "      <th>salary_risk_score</th>\n",
       "      <th>pensions</th>\n",
       "      <th>...</th>\n",
       "      <th>recommended_account11_name</th>\n",
       "      <th>recommended_account11_pre_tax_contrib</th>\n",
       "      <th>recommended_account11_roth_contrib</th>\n",
       "      <th>recommended_account11_post_tax_contrib</th>\n",
       "      <th>recommended_account11_taxable_contrib</th>\n",
       "      <th>recommended_account12_name</th>\n",
       "      <th>recommended_account12_pre_tax_contrib</th>\n",
       "      <th>recommended_account12_roth_contrib</th>\n",
       "      <th>recommended_account12_post_tax_contrib</th>\n",
       "      <th>recommended_account12_taxable_contrib</th>\n",
       "    </tr>\n",
       "    <tr>\n",
       "      <th>name</th>\n",
       "      <th></th>\n",
       "      <th></th>\n",
       "      <th></th>\n",
       "      <th></th>\n",
       "      <th></th>\n",
       "      <th></th>\n",
       "      <th></th>\n",
       "      <th></th>\n",
       "      <th></th>\n",
       "      <th></th>\n",
       "      <th></th>\n",
       "      <th></th>\n",
       "      <th></th>\n",
       "      <th></th>\n",
       "      <th></th>\n",
       "      <th></th>\n",
       "      <th></th>\n",
       "      <th></th>\n",
       "      <th></th>\n",
       "      <th></th>\n",
       "      <th></th>\n",
       "    </tr>\n",
       "  </thead>\n",
       "  <tbody>\n",
       "    <tr>\n",
       "      <th>637</th>\n",
       "      <td>60</td>\n",
       "      <td>M</td>\n",
       "      <td>50000</td>\n",
       "      <td>64</td>\n",
       "      <td>True</td>\n",
       "      <td>IL</td>\n",
       "      <td>0.4</td>\n",
       "      <td>0.005</td>\n",
       "      <td>-1.0</td>\n",
       "      <td>0</td>\n",
       "      <td>...</td>\n",
       "      <td>NaN</td>\n",
       "      <td>NaN</td>\n",
       "      <td>NaN</td>\n",
       "      <td>NaN</td>\n",
       "      <td>NaN</td>\n",
       "      <td>NaN</td>\n",
       "      <td>NaN</td>\n",
       "      <td>NaN</td>\n",
       "      <td>NaN</td>\n",
       "      <td>NaN</td>\n",
       "    </tr>\n",
       "    <tr>\n",
       "      <th>639</th>\n",
       "      <td>59</td>\n",
       "      <td>M</td>\n",
       "      <td>235000</td>\n",
       "      <td>66</td>\n",
       "      <td>True</td>\n",
       "      <td>VA</td>\n",
       "      <td>0.8</td>\n",
       "      <td>0.020</td>\n",
       "      <td>-0.5</td>\n",
       "      <td>95000</td>\n",
       "      <td>...</td>\n",
       "      <td>NaN</td>\n",
       "      <td>NaN</td>\n",
       "      <td>NaN</td>\n",
       "      <td>NaN</td>\n",
       "      <td>NaN</td>\n",
       "      <td>NaN</td>\n",
       "      <td>NaN</td>\n",
       "      <td>NaN</td>\n",
       "      <td>NaN</td>\n",
       "      <td>NaN</td>\n",
       "    </tr>\n",
       "    <tr>\n",
       "      <th>662</th>\n",
       "      <td>61</td>\n",
       "      <td>M</td>\n",
       "      <td>120000</td>\n",
       "      <td>65</td>\n",
       "      <td>False</td>\n",
       "      <td>PA</td>\n",
       "      <td>0.4</td>\n",
       "      <td>0.015</td>\n",
       "      <td>-0.5</td>\n",
       "      <td>0</td>\n",
       "      <td>...</td>\n",
       "      <td>NaN</td>\n",
       "      <td>NaN</td>\n",
       "      <td>NaN</td>\n",
       "      <td>NaN</td>\n",
       "      <td>NaN</td>\n",
       "      <td>NaN</td>\n",
       "      <td>NaN</td>\n",
       "      <td>NaN</td>\n",
       "      <td>NaN</td>\n",
       "      <td>NaN</td>\n",
       "    </tr>\n",
       "    <tr>\n",
       "      <th>663</th>\n",
       "      <td>65</td>\n",
       "      <td>M</td>\n",
       "      <td>300000</td>\n",
       "      <td>65</td>\n",
       "      <td>False</td>\n",
       "      <td>CO</td>\n",
       "      <td>0.4</td>\n",
       "      <td>0.010</td>\n",
       "      <td>-0.5</td>\n",
       "      <td>0</td>\n",
       "      <td>...</td>\n",
       "      <td>NaN</td>\n",
       "      <td>NaN</td>\n",
       "      <td>NaN</td>\n",
       "      <td>NaN</td>\n",
       "      <td>NaN</td>\n",
       "      <td>NaN</td>\n",
       "      <td>NaN</td>\n",
       "      <td>NaN</td>\n",
       "      <td>NaN</td>\n",
       "      <td>NaN</td>\n",
       "    </tr>\n",
       "    <tr>\n",
       "      <th>669</th>\n",
       "      <td>69</td>\n",
       "      <td>F</td>\n",
       "      <td>96000</td>\n",
       "      <td>67</td>\n",
       "      <td>True</td>\n",
       "      <td>MO</td>\n",
       "      <td>0.0</td>\n",
       "      <td>0.010</td>\n",
       "      <td>-1.0</td>\n",
       "      <td>0</td>\n",
       "      <td>...</td>\n",
       "      <td>NaN</td>\n",
       "      <td>NaN</td>\n",
       "      <td>NaN</td>\n",
       "      <td>NaN</td>\n",
       "      <td>NaN</td>\n",
       "      <td>NaN</td>\n",
       "      <td>NaN</td>\n",
       "      <td>NaN</td>\n",
       "      <td>NaN</td>\n",
       "      <td>NaN</td>\n",
       "    </tr>\n",
       "  </tbody>\n",
       "</table>\n",
       "<p>5 rows × 173 columns</p>\n",
       "</div>"
      ],
      "text/plain": [
       "      age gender  salary  retirement_age  marital_status state_of_residence  \\\n",
       "name                                                                          \n",
       "637    60      M   50000              64            True                 IL   \n",
       "639    59      M  235000              66            True                 VA   \n",
       "662    61      M  120000              65           False                 PA   \n",
       "663    65      M  300000              65           False                 CO   \n",
       "669    69      F   96000              67            True                 MO   \n",
       "\n",
       "      health_risk_score  salary_growth_rate  salary_risk_score  pensions  \\\n",
       "name                                                                       \n",
       "637                 0.4               0.005               -1.0         0   \n",
       "639                 0.8               0.020               -0.5     95000   \n",
       "662                 0.4               0.015               -0.5         0   \n",
       "663                 0.4               0.010               -0.5         0   \n",
       "669                 0.0               0.010               -1.0         0   \n",
       "\n",
       "                      ...                   recommended_account11_name  \\\n",
       "name                  ...                                                \n",
       "637                   ...                                          NaN   \n",
       "639                   ...                                          NaN   \n",
       "662                   ...                                          NaN   \n",
       "663                   ...                                          NaN   \n",
       "669                   ...                                          NaN   \n",
       "\n",
       "      recommended_account11_pre_tax_contrib  \\\n",
       "name                                          \n",
       "637                                     NaN   \n",
       "639                                     NaN   \n",
       "662                                     NaN   \n",
       "663                                     NaN   \n",
       "669                                     NaN   \n",
       "\n",
       "      recommended_account11_roth_contrib  \\\n",
       "name                                       \n",
       "637                                  NaN   \n",
       "639                                  NaN   \n",
       "662                                  NaN   \n",
       "663                                  NaN   \n",
       "669                                  NaN   \n",
       "\n",
       "     recommended_account11_post_tax_contrib  \\\n",
       "name                                          \n",
       "637                                     NaN   \n",
       "639                                     NaN   \n",
       "662                                     NaN   \n",
       "663                                     NaN   \n",
       "669                                     NaN   \n",
       "\n",
       "      recommended_account11_taxable_contrib  recommended_account12_name  \\\n",
       "name                                                                      \n",
       "637                                     NaN                         NaN   \n",
       "639                                     NaN                         NaN   \n",
       "662                                     NaN                         NaN   \n",
       "663                                     NaN                         NaN   \n",
       "669                                     NaN                         NaN   \n",
       "\n",
       "      recommended_account12_pre_tax_contrib  \\\n",
       "name                                          \n",
       "637                                     NaN   \n",
       "639                                     NaN   \n",
       "662                                     NaN   \n",
       "663                                     NaN   \n",
       "669                                     NaN   \n",
       "\n",
       "      recommended_account12_roth_contrib  \\\n",
       "name                                       \n",
       "637                                  NaN   \n",
       "639                                  NaN   \n",
       "662                                  NaN   \n",
       "663                                  NaN   \n",
       "669                                  NaN   \n",
       "\n",
       "     recommended_account12_post_tax_contrib  \\\n",
       "name                                          \n",
       "637                                     NaN   \n",
       "639                                     NaN   \n",
       "662                                     NaN   \n",
       "663                                     NaN   \n",
       "669                                     NaN   \n",
       "\n",
       "     recommended_account12_taxable_contrib  \n",
       "name                                        \n",
       "637                                    NaN  \n",
       "639                                    NaN  \n",
       "662                                    NaN  \n",
       "663                                    NaN  \n",
       "669                                    NaN  \n",
       "\n",
       "[5 rows x 173 columns]"
      ]
     },
     "execution_count": 2,
     "metadata": {},
     "output_type": "execute_result"
    }
   ],
   "source": [
    "# Importing data\n",
    "df = pd.DataFrame.from_csv('rawdata/data_revised_2.csv', header=0, sep=',', index_col=0)\n",
    "df.head()"
   ]
  },
  {
   "cell_type": "code",
   "execution_count": 3,
   "metadata": {},
   "outputs": [
    {
     "data": {
      "image/png": "[encoded data removed]",
      "text/plain": [
       "<matplotlib.figure.Figure at 0x1061011d0>"
      ]
     },
     "metadata": {},
     "output_type": "display_data"
    },
    {
     "data": {
      "text/html": [
       "<div>\n",
       "<style>\n",
       "    .dataframe thead tr:only-child th {\n",
       "        text-align: right;\n",
       "    }\n",
       "\n",
       "    .dataframe thead th {\n",
       "        text-align: left;\n",
       "    }\n",
       "\n",
       "    .dataframe tbody tr th {\n",
       "        vertical-align: top;\n",
       "    }\n",
       "</style>\n",
       "<table border=\"1\" class=\"dataframe\">\n",
       "  <thead>\n",
       "    <tr style=\"text-align: right;\">\n",
       "      <th></th>\n",
       "      <th>age</th>\n",
       "    </tr>\n",
       "  </thead>\n",
       "  <tbody>\n",
       "    <tr>\n",
       "      <th>0.2</th>\n",
       "      <td>40.0</td>\n",
       "    </tr>\n",
       "    <tr>\n",
       "      <th>0.4</th>\n",
       "      <td>50.0</td>\n",
       "    </tr>\n",
       "    <tr>\n",
       "      <th>0.6</th>\n",
       "      <td>59.0</td>\n",
       "    </tr>\n",
       "    <tr>\n",
       "      <th>0.8</th>\n",
       "      <td>65.0</td>\n",
       "    </tr>\n",
       "  </tbody>\n",
       "</table>\n",
       "</div>"
      ],
      "text/plain": [
       "      age\n",
       "0.2  40.0\n",
       "0.4  50.0\n",
       "0.6  59.0\n",
       "0.8  65.0"
      ]
     },
     "execution_count": 3,
     "metadata": {},
     "output_type": "execute_result"
    }
   ],
   "source": [
    "#Visualization 1: Unconditional Distribution of investor ages\n",
    "\n",
    "#histogram\n",
    "sns.set()\n",
    "bins=[0,20,30,40,50,60,70,80,90]\n",
    "plt.hist(df.age, bins=bins)\n",
    "plt.xlabel(\"Ages\")\n",
    "plt.ylabel(\"Count\")\n",
    "plt.show()\n",
    "\n",
    "#Quantiles\n",
    "df.iloc[:,[0]].quantile([0.2, 0.4,0.6, 0.8])"
   ]
  },
  {
   "cell_type": "code",
   "execution_count": 4,
   "metadata": {},
   "outputs": [
    {
     "name": "stdout",
     "output_type": "stream",
     "text": [
      "Category          Weight\n",
      "--------------  --------\n",
      "Very Young Age  0.200392\n",
      "Young Age       0.202842\n",
      "Middle Age      0.247428\n",
      "Old Age         0.349339\n"
     ]
    }
   ],
   "source": [
    "#Calculate weights for ages\n",
    "\n",
    "CountVeryYoung= sum(df.age<=40) \n",
    "#print(CountVeryYoung/df.age.count()) #for age 35 weight\n",
    "\n",
    "WeightYoung = sum((df.age>40) & (df.age<=50))/df.age.count() \n",
    "WeightMiddle = sum((df.age>50) & (df.age<=60))/df.age.count() \n",
    "WeightOld = sum((df.age>60))/df.age.count() \n",
    "\n",
    "#print(WeightYoung) #for age 45 weight\n",
    "#print(WeightMiddle) #for age 55 weight\n",
    "#print(WeightOld) #for age 65 weight\n",
    "\n",
    "print (tabulate([[\"Very Young Age\", CountVeryYoung/df.age.count()], [\"Young Age\", WeightYoung], \n",
    "               [\"Middle Age\", WeightMiddle], [\"Old Age\", WeightOld]], \n",
    "         headers=['Category', 'Weight']))"
   ]
  },
  {
   "cell_type": "code",
   "execution_count": null,
   "metadata": {
    "collapsed": true
   },
   "outputs": [],
   "source": []
  },
  {
   "cell_type": "code",
   "execution_count": 5,
   "metadata": {},
   "outputs": [
    {
     "data": {
      "text/plain": [
       "0.25   -3.0\n",
       "0.50    0.0\n",
       "0.75    2.0\n",
       "0.95    8.0\n",
       "dtype: float64"
      ]
     },
     "execution_count": 5,
     "metadata": {},
     "output_type": "execute_result"
    }
   ],
   "source": [
    "#Visualization 2: Distribution of age difference for married investors\n",
    "ageMarriedInvestor = df.age[df.marital_status == True]\n",
    "spouseAgeMarriedInvestor = df.spouse_age[df.marital_status == True]\n",
    "diff = ageMarriedInvestor - spouseAgeMarriedInvestor\n",
    "\n",
    "#histogram\n",
    "sns.set()\n",
    "bins = [-40, -30, -20,-10,0,10,20,30, 40]\n",
    "plt.hist(diff, bins=bins)\n",
    "\n",
    "#calculate standard deviation\n",
    "\n",
    "#Quantiles\n",
    "diff.quantile([0.25, 0.5, 0.75, 0.95])"
   ]
  },
  {
   "cell_type": "code",
   "execution_count": 6,
   "metadata": {},
   "outputs": [
    {
     "name": "stdout",
     "output_type": "stream",
     "text": [
      "Category                Weight\n",
      "-------------------  ---------\n",
      "Same Age Spouse      0.52338\n",
      "Older Spouse         0.224774\n",
      "Much Older Spouse    0.0336341\n",
      "Younger Spouse       0.198523\n",
      "Much Younger Spouse  0.0196883\n"
     ]
    }
   ],
   "source": [
    "#Calculate weights for investors who are married with same age and different age spouse\n",
    "CountMarried = sum(df.marital_status==True)\n",
    "WeightSameAgeSpouse = sum((df.marital_status==True) & ((df.spouse_age - df.age <=2) & (df.spouse_age - df.age >=-2)))/CountMarried\n",
    "#print(WeightSameAgeSpouse) #same age\n",
    "\n",
    "WeightOlderSpouse = sum((df.marital_status==True) & ((df.spouse_age - df.age > 2) & (df.spouse_age - df.age <=10)))/CountMarried\n",
    "#print(WeightOlderSpouse) #Spouse age - investor age = 5\n",
    "\n",
    "WeightMuchOlderSpouse = sum((df.marital_status==True) & (df.spouse_age - df.age > 10))/CountMarried\n",
    "#print(WeightMuchOlderSpouse) #Spouse age - investor age = 15\n",
    "\n",
    "WeightYoungerSpouse = sum((df.marital_status==True) & ((df.spouse_age - df.age <-2) & (df.spouse_age - df.age >=-10)))/CountMarried\n",
    "#print(WeightYoungerSpouse) #Investor age - spouse age = 5\n",
    "\n",
    "WeightMuchYoungerSpouse = sum((df.marital_status==True) & (df.spouse_age - df.age <-10) )/CountMarried\n",
    "#print(WeightMuchYoungerSpouse) #Investor age - spouse age = 15\n",
    "\n",
    "print (tabulate([[\"Same Age Spouse\", WeightSameAgeSpouse], [\"Older Spouse\", WeightOlderSpouse], \n",
    "               [\"Much Older Spouse\", WeightMuchOlderSpouse], [\"Younger Spouse\", WeightYoungerSpouse],\n",
    "                 [\"Much Younger Spouse\", WeightMuchYoungerSpouse ]], \n",
    "         headers=['Category', 'Weight']))"
   ]
  },
  {
   "cell_type": "code",
   "execution_count": 7,
   "metadata": {},
   "outputs": [
    {
     "name": "stdout",
     "output_type": "stream",
     "text": [
      "Marital Status      Count\n",
      "----------------  -------\n",
      "Single                822\n",
      "Married              1219\n"
     ]
    }
   ],
   "source": [
    "#Visualization 3: single vs married investors\n",
    "\n",
    "countMarried = sum(df.marital_status==True)\n",
    "countMarried\n",
    "\n",
    "countSingle = sum(df.marital_status==False)\n",
    "countSingle\n",
    "\n",
    "#histogram\n",
    "sns.set()\n",
    "plt.hist(df.iloc[:,[4]], bins=2)\n",
    "\n",
    "print (tabulate([[\"Single\", countSingle], [\"Married\", countMarried]], \n",
    "         headers=['Marital Status', 'Count']))\n",
    "\n"
   ]
  },
  {
   "cell_type": "code",
   "execution_count": 8,
   "metadata": {},
   "outputs": [
    {
     "name": "stdout",
     "output_type": "stream",
     "text": [
      "Marital Status      Weight\n",
      "----------------  --------\n",
      "Single Weight     0.402744\n",
      "Married           0.597256\n"
     ]
    }
   ],
   "source": [
    "# Weight calculation for single vs. married investors\n",
    "\n",
    "print (tabulate([[\"Single Weight\", (countSingle)/(countSingle + countMarried)], [\"Married\", (countMarried)/(countSingle + countMarried)]], \n",
    "         headers=['Marital Status', 'Weight']))"
   ]
  },
  {
   "cell_type": "code",
   "execution_count": 9,
   "metadata": {},
   "outputs": [
    {
     "name": "stdout",
     "output_type": "stream",
     "text": [
      "Investor Gender      Single    Male Spouse    Female Spouse\n",
      "-----------------  --------  -------------  ---------------\n",
      "Male                    262              9              487\n",
      "Female                  558            699               14\n",
      "Total                   822            708              501\n"
     ]
    }
   ],
   "source": [
    "# Visualization 4: Distribution of sex, conditional on marital status (2 possible values for single – f, m; 3 for married – f/f/, f/m, m/m)\n",
    "\n",
    "singleM = df[(df['marital_status']==False) & (df.gender=='M')]\n",
    "singleF = df[(df['marital_status']==False) & (df.gender=='F')]\n",
    "singleTot = df[(df['marital_status']==False)]\n",
    "\n",
    "MM = df[(df['marital_status']==True) & (df.gender=='M') & (df.spouse_gender=='M')]\n",
    "MF = df[(df['marital_status']==True) & (df.gender=='M') & (df.spouse_gender=='F')]\n",
    "FF = df[(df['marital_status']==True) & (df.gender=='F') & (df.spouse_gender=='F')]\n",
    "FM = df[(df['marital_status']==True) & (df.gender=='F') & (df.spouse_gender=='M')]\n",
    "\n",
    "print (tabulate([[\"Male\", singleM.shape[0], MM.shape[0], MF.shape[0]], \n",
    "                [\"Female\", singleF.shape[0], FM.shape[0], FF.shape[0]],\n",
    "                [\"Total\", singleTot.shape[0], \"708\", \"501\"]],\n",
    "                  headers=['Investor Gender', 'Single', 'Male Spouse', 'Female Spouse']))\n"
   ]
  },
  {
   "cell_type": "code",
   "execution_count": 10,
   "metadata": {},
   "outputs": [
    {
     "name": "stdout",
     "output_type": "stream",
     "text": [
      "Health Risk      Count\n",
      "-------------  -------\n",
      "Poor                32\n",
      "Below Average       82\n",
      "Average            669\n",
      "Above Average      755\n",
      "Excellent          483\n"
     ]
    },
    {
     "data": {
      "image/png": "[encoded data removed]",
      "text/plain": [
       "<matplotlib.figure.Figure at 0x108bc1630>"
      ]
     },
     "metadata": {},
     "output_type": "display_data"
    },
    {
     "data": {
      "image/png": "[encoded data removed]",
      "text/plain": [
       "<matplotlib.figure.Figure at 0x108cf5710>"
      ]
     },
     "metadata": {},
     "output_type": "display_data"
    },
    {
     "data": {
      "image/png": "[encoded data removed]",
      "text/plain": [
       "<matplotlib.figure.Figure at 0x10bd06b70>"
      ]
     },
     "metadata": {},
     "output_type": "display_data"
    }
   ],
   "source": [
    "#Visualization 5: Distribution of Health Risk Questionnaire Responses\n",
    "hs = df.health_risk_score.to_frame()\n",
    "\n",
    "# removing NaN's\n",
    "cleanhs = hs[np.isfinite(hs['health_risk_score'])]\n",
    "\n",
    "\n",
    "Poordf = df.iloc[:,[6]]==-1.0\n",
    "Poor = Poordf[Poordf.health_risk_score==True]\n",
    "\n",
    "BelowAveragedf = df.iloc[:,[6]]==-0.6\n",
    "BelowAverage = BelowAveragedf[BelowAveragedf.health_risk_score==True]\n",
    "\n",
    "Averagedf = df.iloc[:,[6]]==0.0\n",
    "Average = Averagedf[Averagedf.health_risk_score==True]\n",
    "\n",
    "AboveAveragedf = df.iloc[:,[6]]==0.4\n",
    "AboveAverage = AboveAveragedf[AboveAveragedf.health_risk_score==True]\n",
    "\n",
    "Excellentdf = df.iloc[:,[6]]==0.8\n",
    "Excellent = Excellentdf[Excellentdf.health_risk_score==True]\n",
    "\n",
    "\n",
    "data = {'Poor': Poor.shape[0], 'Below Average': BelowAverage.shape[0], \n",
    "        'Average': Average.shape[0], 'Above Average': AboveAverage.shape[0],\n",
    "        'Excellent': Excellent.shape[0]}\n",
    "names = list(data.keys())\n",
    "values = list(data.values())\n",
    "fig, ax = plt.subplots()\n",
    "ax.bar(names, values)\n",
    "fig.suptitle('Health Risk Questionnaire')\n",
    "\n",
    "\n",
    "print (tabulate([[\"Poor\", Poor.shape[0]], [\"Below Average\", BelowAverage.shape[0]], \n",
    "               [\"Average\", Average.shape[0]], [\"Above Average\", AboveAverage.shape[0]],\n",
    "               [\"Excellent\", Excellent.shape[0]]], \n",
    "         headers=['Health Risk', 'Count']))\n",
    "\n",
    "\n",
    "\n",
    "# how does health score relate to age group?\n",
    "healthCorr = df.iloc[:,[0, 6]]\n",
    "sns.jointplot(x=\"age\", y = \"health_risk_score\", data=healthCorr, size=10)\n",
    "plt.show()\n",
    "## per age group\n",
    "\n",
    "# can we plot the hist in a non-alphabetical order?"
   ]
  },
  {
   "cell_type": "code",
   "execution_count": 11,
   "metadata": {
    "scrolled": false
   },
   "outputs": [
    {
     "name": "stdout",
     "output_type": "stream",
     "text": [
      "Salary Risk                    Count\n",
      "---------------------------  -------\n",
      "Very Unlikely                   1186\n",
      "Unlikely                         386\n",
      "Neither Unlikely nor Likely      252\n",
      "Likely                           153\n",
      "Very Likely                       44\n"
     ]
    },
    {
     "data": {
      "image/png": "[encoded data removed]",
      "text/plain": [
       "<matplotlib.figure.Figure at 0x108ce9f28>"
      ]
     },
     "metadata": {},
     "output_type": "display_data"
    },
    {
     "data": {
      "image/png": "[encoded data removed]",
      "text/plain": [
       "<matplotlib.figure.Figure at 0x111d3f898>"
      ]
     },
     "metadata": {},
     "output_type": "display_data"
    }
   ],
   "source": [
    "#Visualization 6: Distribution of Salary Risk Questionnaire Responses\n",
    "\n",
    "salaryRisk = df.iloc[:,[8]]\n",
    "\n",
    "# removing NaN's\n",
    "cleanSalaryRisk = salaryRisk[np.isfinite(salaryRisk['salary_risk_score'])]\n",
    "pd.unique(cleanSalaryRisk['salary_risk_score'])\n",
    "\n",
    "\n",
    "VeryUnlikelydf = df.iloc[:,[8]]==-1.0\n",
    "VeryUnlikely = VeryUnlikelydf[VeryUnlikelydf.salary_risk_score==True]\n",
    "\n",
    "Unlikelydf = df.iloc[:,[8]]==-0.5\n",
    "Unlikely = Unlikelydf[Unlikelydf.salary_risk_score==True]\n",
    "\n",
    "Neutraldf = df.iloc[:,[8]]==0.0\n",
    "Neutral = Neutraldf[Neutraldf.salary_risk_score==True]\n",
    "\n",
    "Likelydf = df.iloc[:,[8]]==0.5\n",
    "Likely = Likelydf[Likelydf.salary_risk_score==True]\n",
    "\n",
    "VeryLikelydf = df.iloc[:,[8]]==1.0\n",
    "VeryLikely = VeryLikelydf[VeryLikelydf.salary_risk_score==True]\n",
    "\n",
    "\n",
    "data = {'Very Unlikely': VeryUnlikely.shape[0], 'Unlikely': Unlikely.shape[0], \n",
    "        'Neither Likely nor Unlikely': Neutral.shape[0], 'Likely': Likely.shape[0],\n",
    "        'Very Likely': VeryLikely.shape[0]}\n",
    "names = list(data.keys())\n",
    "values = list(data.values())\n",
    "fig, ax = plt.subplots()\n",
    "ax.bar(names, values)\n",
    "fig.suptitle('Salary Risk Questionnaire')\n",
    "\n",
    "\n",
    "print (tabulate([[\"Very Unlikely\", VeryUnlikely.shape[0]], [\"Unlikely\", Unlikely.shape[0]], \n",
    "               [\"Neither Unlikely nor Likely\", Neutral.shape[0]], [\"Likely\", Likely.shape[0]],\n",
    "               [\"Very Likely\", VeryLikely.shape[0]]], \n",
    "         headers=['Salary Risk', 'Count']))\n",
    "\n",
    "\n",
    "#How does salary correlate to salary risk?\n",
    "salaryCorr = df.iloc[:,[2, 8]]\n",
    "sns.jointplot(x=\"salary\", y = \"salary_risk_score\", data=salaryCorr, size=10)\n",
    "plt.show()\n",
    "# non-alphabetize responses"
   ]
  },
  {
   "cell_type": "code",
   "execution_count": 12,
   "metadata": {},
   "outputs": [
    {
     "name": "stdout",
     "output_type": "stream",
     "text": [
      "Category                             Weight\n",
      "--------------------------------  ---------\n",
      "Very Young Very Low Salary Risk   0.545232\n",
      "Very Young Low Salary Risk        0.198044\n",
      "Very Young Avg Salary Risk        0.146699\n",
      "Very Young Above Avg Salary Risk  0.0806846\n"
     ]
    }
   ],
   "source": [
    "#Weights Calculation for Salary Risk Questionnaire Responses by Very Young Age \n",
    "salaryAndAge = df.iloc[:,[0, 8]]\n",
    "#sns.jointplot(x=\"age\", y = \"salary_risk_score\", data=salaryAndAge, size=10)\n",
    "#plt.show()\n",
    "\n",
    "WeightVeryYoungVeryLowSalaryRisk = sum((salaryAndAge.age<=40) & (salaryAndAge.salary_risk_score == -1.0))/CountVeryYoung\n",
    "#print(WeightVeryYoungVeryLowSalaryRisk)\n",
    "\n",
    "WeightVeryYoungLowSalaryRisk = sum((salaryAndAge.age<=40) & (salaryAndAge.salary_risk_score == -0.5))/CountVeryYoung\n",
    "#print(WeightVeryYoungLowSalaryRisk)\n",
    "\n",
    "WeightVeryYoungAvgSalaryRisk = sum((salaryAndAge.age<=40) & (salaryAndAge.salary_risk_score == 0.0))/CountVeryYoung\n",
    "#print(WeightVeryYoungAvgSalaryRisk)\n",
    "\n",
    "WeightVeryYoungAboveAvgSalaryRisk = sum((salaryAndAge.age<=40) & (salaryAndAge.salary_risk_score == 0.5))/CountVeryYoung\n",
    "#print(WeightVeryYoungAboveAvgSalaryRisk)\n",
    "\n",
    "print (tabulate([[\"Very Young Very Low Salary Risk\", WeightVeryYoungVeryLowSalaryRisk], [\"Very Young Low Salary Risk\", WeightVeryYoungLowSalaryRisk], \n",
    "               [\"Very Young Avg Salary Risk\", WeightVeryYoungAvgSalaryRisk], [\"Very Young Above Avg Salary Risk\", WeightVeryYoungAboveAvgSalaryRisk]], \n",
    "         headers=['Category', 'Weight']))"
   ]
  },
  {
   "cell_type": "code",
   "execution_count": 13,
   "metadata": {},
   "outputs": [
    {
     "name": "stdout",
     "output_type": "stream",
     "text": [
      "Category                       Weight\n",
      "---------------------------  --------\n",
      "Young Very Low Salary Risk   0.492754\n",
      "Young Low Salary Risk        0.246377\n",
      "Young Avg Salary Risk        0.115942\n",
      "Young Above Avg Salary Risk  0.101449\n"
     ]
    }
   ],
   "source": [
    "#Weights Calculation for Salary Risk Questionnaire Responses by Young Age\n",
    "\n",
    "CountYoung = sum((df.age>40) & (df.age<=50))\n",
    "WeightYoungVeryLowSalaryRisk = sum((salaryAndAge.age>40) & (salaryAndAge.age<=50) &(salaryAndAge.salary_risk_score == -1.0))/CountYoung\n",
    "#print(WeightYoungVeryLowSalaryRisk)\n",
    "\n",
    "WeightYoungLowSalaryRisk = sum((salaryAndAge.age>40) & (salaryAndAge.age<=50) &(salaryAndAge.salary_risk_score == -0.5))/CountYoung\n",
    "\n",
    "#print(WeightYoungLowSalaryRisk)\n",
    "\n",
    "WeightYoungAvgSalaryRisk = sum((salaryAndAge.age>40) & (salaryAndAge.age<=50) &(salaryAndAge.salary_risk_score == 0.0))/CountYoung\n",
    "\n",
    "#print(WeightYoungAvgSalaryRisk)\n",
    "\n",
    "WeightYoungAboveAvgSalaryRisk = sum((salaryAndAge.age>40) & (salaryAndAge.age<=50) &(salaryAndAge.salary_risk_score == 0.5))/CountYoung\n",
    "\n",
    "#print(WeightYoungAboveAvgSalaryRisk)\n",
    "\n",
    "print (tabulate([[\"Young Very Low Salary Risk\", WeightYoungVeryLowSalaryRisk], [\"Young Low Salary Risk\", WeightYoungLowSalaryRisk], \n",
    "               [\"Young Avg Salary Risk\", WeightYoungAvgSalaryRisk], [\"Young Above Avg Salary Risk\", WeightYoungAboveAvgSalaryRisk]], \n",
    "         headers=['Category', 'Weight']))\n"
   ]
  },
  {
   "cell_type": "code",
   "execution_count": null,
   "metadata": {
    "collapsed": true
   },
   "outputs": [],
   "source": []
  },
  {
   "cell_type": "code",
   "execution_count": 14,
   "metadata": {
    "scrolled": false
   },
   "outputs": [
    {
     "data": {
      "image/png": "[encoded data removed]",
      "text/plain": [
       "<matplotlib.figure.Figure at 0x108cd9160>"
      ]
     },
     "metadata": {},
     "output_type": "display_data"
    },
    {
     "data": {
      "text/html": [
       "<div>\n",
       "<style>\n",
       "    .dataframe thead tr:only-child th {\n",
       "        text-align: right;\n",
       "    }\n",
       "\n",
       "    .dataframe thead th {\n",
       "        text-align: left;\n",
       "    }\n",
       "\n",
       "    .dataframe tbody tr th {\n",
       "        vertical-align: top;\n",
       "    }\n",
       "</style>\n",
       "<table border=\"1\" class=\"dataframe\">\n",
       "  <thead>\n",
       "    <tr style=\"text-align: right;\">\n",
       "      <th></th>\n",
       "      <th>retirement_age</th>\n",
       "      <th>recommended_retirement_age</th>\n",
       "    </tr>\n",
       "  </thead>\n",
       "  <tbody>\n",
       "    <tr>\n",
       "      <th>0.2</th>\n",
       "      <td>64.0</td>\n",
       "      <td>65.0</td>\n",
       "    </tr>\n",
       "    <tr>\n",
       "      <th>0.4</th>\n",
       "      <td>65.0</td>\n",
       "      <td>66.0</td>\n",
       "    </tr>\n",
       "    <tr>\n",
       "      <th>0.6</th>\n",
       "      <td>67.0</td>\n",
       "      <td>67.0</td>\n",
       "    </tr>\n",
       "    <tr>\n",
       "      <th>0.8</th>\n",
       "      <td>67.0</td>\n",
       "      <td>69.0</td>\n",
       "    </tr>\n",
       "  </tbody>\n",
       "</table>\n",
       "</div>"
      ],
      "text/plain": [
       "     retirement_age  recommended_retirement_age\n",
       "0.2            64.0                        65.0\n",
       "0.4            65.0                        66.0\n",
       "0.6            67.0                        67.0\n",
       "0.8            67.0                        69.0"
      ]
     },
     "execution_count": 14,
     "metadata": {},
     "output_type": "execute_result"
    }
   ],
   "source": [
    "#Visualization 8.1: Distribution of desired and recommended retirement ages\n",
    "\n",
    "# distribution data\n",
    "retirementAge = df.iloc[:,[3, 102]]\n",
    "sns.set()\n",
    "bins=[45, 50, 55, 60, 65, 70, 75, 80]\n",
    "sns.distplot(retirementAge.retirement_age, kde=False, bins=bins, label=\"Desired\")\n",
    "sns.distplot(retirementAge.recommended_retirement_age, kde=False, bins=bins, label=\"Recommended\")\n",
    "plt.legend()\n",
    "plt.show()\n",
    "\n",
    "# quartiles or quantile data\n",
    "retirementAge.quantile([0.2, 0.4, 0.6, 0.8])"
   ]
  },
  {
   "cell_type": "code",
   "execution_count": 15,
   "metadata": {},
   "outputs": [
    {
     "name": "stdout",
     "output_type": "stream",
     "text": [
      "Category               Weight\n",
      "-----------------  ----------\n",
      "Retirement Age 45  0.00538951\n",
      "Retirement Age 55  0.0636943\n",
      "Retirement Age 65  0.905439\n"
     ]
    }
   ],
   "source": [
    "#Calculate retirement age weights\n",
    "countRetAgeUnder50 = sum(df.retirement_age<=50)\n",
    "weightRetAgeUnder50 = countRetAgeUnder50/df.age.count()\n",
    "#print(weightRetAgeUnder50)\n",
    "\n",
    "countRetAge55 = sum((df.retirement_age>50) & (df.retirement_age <=60))\n",
    "weightRetAge55 = countRetAge55/df.age.count()\n",
    "#print(weightRetAge55)\n",
    "\n",
    "countRetAge65 = sum((df.retirement_age>60) & (df.retirement_age <=70))\n",
    "weightRetAge65 = countRetAge65/df.age.count()\n",
    "#print(weightRetAge65)\n",
    "\n",
    "print (tabulate([[\"Retirement Age 45\", weightRetAgeUnder50], [\"Retirement Age 55\", weightRetAge55], \n",
    "                [\"Retirement Age 65\", weightRetAge65]], \n",
    "         headers=['Category', 'Weight']))"
   ]
  },
  {
   "cell_type": "code",
   "execution_count": 16,
   "metadata": {
    "scrolled": true
   },
   "outputs": [
    {
     "data": {
      "text/plain": [
       "0.2    0.0\n",
       "0.4    0.0\n",
       "0.6    1.0\n",
       "0.8    2.0\n",
       "dtype: float64"
      ]
     },
     "execution_count": 16,
     "metadata": {},
     "output_type": "execute_result"
    }
   ],
   "source": [
    "#Visualization 8.3: Distribution of difference in desired and recommended retirement ages\n",
    "\n",
    "new = df.iloc[:,[0, 3, 102]]\n",
    "# filter out retired users\n",
    "nonRetiredUsers = new[new.age<new.retirement_age]\n",
    "diffRet = nonRetiredUsers['recommended_retirement_age'] - nonRetiredUsers['retirement_age'] \n",
    "\n",
    "#plotting\n",
    "sns.set()\n",
    "bins=[-5, -4, -3,-2,-1,0,1,2,3,4,5]\n",
    "sns.distplot(diffRet, kde=False, bins=bins)\n",
    "\n",
    "\n",
    "#quantile data\n",
    "diffRet.quantile([0.2,0.4,0.6,0.8])"
   ]
  },
  {
   "cell_type": "code",
   "execution_count": 17,
   "metadata": {},
   "outputs": [
    {
     "data": {
      "text/html": [
       "<div>\n",
       "<style>\n",
       "    .dataframe thead tr:only-child th {\n",
       "        text-align: right;\n",
       "    }\n",
       "\n",
       "    .dataframe thead th {\n",
       "        text-align: left;\n",
       "    }\n",
       "\n",
       "    .dataframe tbody tr th {\n",
       "        vertical-align: top;\n",
       "    }\n",
       "</style>\n",
       "<table border=\"1\" class=\"dataframe\">\n",
       "  <thead>\n",
       "    <tr style=\"text-align: right;\">\n",
       "      <th></th>\n",
       "      <th>salary</th>\n",
       "    </tr>\n",
       "  </thead>\n",
       "  <tbody>\n",
       "    <tr>\n",
       "      <th>0.2</th>\n",
       "      <td>40000.0</td>\n",
       "    </tr>\n",
       "    <tr>\n",
       "      <th>0.4</th>\n",
       "      <td>55000.0</td>\n",
       "    </tr>\n",
       "    <tr>\n",
       "      <th>0.6</th>\n",
       "      <td>75000.0</td>\n",
       "    </tr>\n",
       "    <tr>\n",
       "      <th>0.8</th>\n",
       "      <td>100000.0</td>\n",
       "    </tr>\n",
       "  </tbody>\n",
       "</table>\n",
       "</div>"
      ],
      "text/plain": [
       "       salary\n",
       "0.2   40000.0\n",
       "0.4   55000.0\n",
       "0.6   75000.0\n",
       "0.8  100000.0"
      ]
     },
     "execution_count": 17,
     "metadata": {},
     "output_type": "execute_result"
    }
   ],
   "source": [
    "#Visualization 9: Distribution of Salary (Unconditional)\n",
    "salary = df.iloc[:,[2]]\n",
    "cleanSalary = salary[salary['salary']>1000]\n",
    "\n",
    "sns.set()\n",
    "#bins=[0,25000,40000,50000,60000,75000,100000, 200000, 500000, 750000]\n",
    "sns.distplot(cleanSalary, kde=False, bins=10) #by changing the bins parameter to 'bins', you can specify the bins manually.\n",
    "\n",
    "#quantiles\n",
    "cleanSalary.quantile([0.2,0.4,0.6,0.8])"
   ]
  },
  {
   "cell_type": "code",
   "execution_count": 18,
   "metadata": {
    "scrolled": false
   },
   "outputs": [
    {
     "data": {
      "text/html": [
       "<div>\n",
       "<style>\n",
       "    .dataframe thead tr:only-child th {\n",
       "        text-align: right;\n",
       "    }\n",
       "\n",
       "    .dataframe thead th {\n",
       "        text-align: left;\n",
       "    }\n",
       "\n",
       "    .dataframe tbody tr th {\n",
       "        vertical-align: top;\n",
       "    }\n",
       "</style>\n",
       "<table border=\"1\" class=\"dataframe\">\n",
       "  <thead>\n",
       "    <tr style=\"text-align: right;\">\n",
       "      <th></th>\n",
       "      <th>salary</th>\n",
       "      <th>combined_salary</th>\n",
       "    </tr>\n",
       "  </thead>\n",
       "  <tbody>\n",
       "    <tr>\n",
       "      <th>0.2</th>\n",
       "      <td>39000.0</td>\n",
       "      <td>45000.0</td>\n",
       "    </tr>\n",
       "    <tr>\n",
       "      <th>0.4</th>\n",
       "      <td>52000.0</td>\n",
       "      <td>60001.0</td>\n",
       "    </tr>\n",
       "    <tr>\n",
       "      <th>0.6</th>\n",
       "      <td>70000.0</td>\n",
       "      <td>80000.0</td>\n",
       "    </tr>\n",
       "    <tr>\n",
       "      <th>0.8</th>\n",
       "      <td>93000.0</td>\n",
       "      <td>110000.0</td>\n",
       "    </tr>\n",
       "  </tbody>\n",
       "</table>\n",
       "</div>"
      ],
      "text/plain": [
       "      salary  combined_salary\n",
       "0.2  39000.0          45000.0\n",
       "0.4  52000.0          60001.0\n",
       "0.6  70000.0          80000.0\n",
       "0.8  93000.0         110000.0"
      ]
     },
     "execution_count": 18,
     "metadata": {},
     "output_type": "execute_result"
    }
   ],
   "source": [
    "#Visualization 10: Distribution of Salary conditional on marital status\n",
    "\n",
    "salaryAndMarital = df.iloc[:,[2, 4, 15]]\n",
    "\n",
    "#single\n",
    "singleSalaryAndMarital = salaryAndMarital[salaryAndMarital.marital_status==False]\n",
    "singleSalary = singleSalaryAndMarital.iloc[:,[0]]\n",
    "singleClean = singleSalary[np.isfinite(singleSalary['salary']) & (singleSalary['salary']>1000)]\n",
    "\n",
    "\n",
    "#married\n",
    "marriedSalaryAndMarital = salaryAndMarital[salaryAndMarital.marital_status==True]\n",
    "marriedSalary = marriedSalaryAndMarital.iloc[:,[0, 2]]\n",
    "marriedSalary['combined_salary'] = marriedSalary['salary'] + marriedSalary['spouse_salary'] \n",
    "marriedCombined = marriedSalary.iloc[:,[2]]\n",
    "marriedClean = marriedCombined[np.isfinite(marriedCombined['combined_salary']) & (marriedCombined['combined_salary']>1000)]\n",
    "\n",
    "\n",
    "#plotting\n",
    "sns.distplot(marriedClean, kde=False, label=\"Married\")\n",
    "sns.distplot(singleClean, kde=False, label=\"Single\")\n",
    "plt.legend()\n",
    "\n",
    "\n",
    "# quantiles \n",
    "quantileMarried = marriedClean.quantile([0.2,0.4,0.6,0.8])\n",
    "quantileSingle = singleClean.quantile([0.2,0.4,0.6,0.8])\n",
    "quantileSingle.join(quantileMarried, lsuffix='salary', rsuffix='combined_salary')"
   ]
  },
  {
   "cell_type": "code",
   "execution_count": 19,
   "metadata": {},
   "outputs": [
    {
     "data": {
      "text/plain": [
       "<seaborn.axisgrid.JointGrid at 0x112144ba8>"
      ]
     },
     "execution_count": 19,
     "metadata": {},
     "output_type": "execute_result"
    }
   ],
   "source": [
    "#Visualization 11: Distribution of Salary conditional on age\n",
    "\n",
    "salary = df.iloc[:,[0, 2, 3]]\n",
    "\n",
    "#filter out salary lower than $1,000\n",
    "cleanSalary = salary[salary['salary']>1000]\n",
    "\n",
    "#filter retirement users out\n",
    "filterRetiredUsers = salary[salary['age']<salary['retirement_age']]\n",
    "\n",
    "#plotting\n",
    "sns.jointplot(x=\"age\", y=\"salary\", data=filterRetiredUsers, size=10, dropna=True, ratio=2, space=0.05)\n",
    "\n",
    "#bins = [30, 40, 50, 60, 65, 70]\n",
    "#sns.regplot(x=\"age\", y=\"salary\", data=filterRetiredUsers, x_bins=bins)"
   ]
  },
  {
   "cell_type": "code",
   "execution_count": 20,
   "metadata": {
    "scrolled": true
   },
   "outputs": [
    {
     "name": "stdout",
     "output_type": "stream",
     "text": [
      "0.20    0.093506\n",
      "0.40    0.178571\n",
      "0.50    0.225000\n",
      "0.60    0.284444\n",
      "0.85    0.525000\n",
      "Name: ratio, dtype: float64\n"
     ]
    },
    {
     "name": "stderr",
     "output_type": "stream",
     "text": [
      "/Users/looks/anaconda3/lib/python3.6/site-packages/ipykernel_launcher.py:3: SettingWithCopyWarning:\n",
      "\n",
      "\n",
      "A value is trying to be set on a copy of a slice from a DataFrame.\n",
      "Try using .loc[row_indexer,col_indexer] = value instead\n",
      "\n",
      "See the caveats in the documentation: http://pandas.pydata.org/pandas-docs/stable/indexing.html#indexing-view-versus-copy\n",
      "\n",
      "/Users/looks/anaconda3/lib/python3.6/site-packages/ipykernel_launcher.py:8: SettingWithCopyWarning:\n",
      "\n",
      "\n",
      "A value is trying to be set on a copy of a slice from a DataFrame.\n",
      "Try using .loc[row_indexer,col_indexer] = value instead\n",
      "\n",
      "See the caveats in the documentation: http://pandas.pydata.org/pandas-docs/stable/indexing.html#indexing-view-versus-copy\n",
      "\n"
     ]
    }
   ],
   "source": [
    "#Visualization 12: Distribution of combined pension and annuity as % of salary\n",
    "vis12 = df.iloc[:,[2, 9, 10]]\n",
    "vis12['combined_GI'] = vis12['pensions'] + vis12['annuities'] \n",
    "\n",
    "# let's filter out people don't have pensions and annuity \n",
    "vis12Clean = vis12[(vis12.combined_GI!=0) & (vis12['salary']>1000)]\n",
    "\n",
    "vis12Clean['ratio'] = vis12Clean['combined_GI']/vis12Clean['salary']\n",
    "vis12CleanRatio = vis12Clean[vis12Clean.ratio>0]\n",
    "quantileVis12Clean = vis12CleanRatio['ratio'].quantile([0.2,0.4, 0.5, 0.6,0.85])\n",
    "print(quantileVis12Clean)\n",
    "\n",
    "#bins=[0,0.10, 0.25, 0.5, 1, 1.5, 2,2.5,3]\n",
    "#sns.distplot(vis12CleanRatio.ratio, kde=False, axlabel=\"Ratio of Combined Guaranteed Income to Salary\", bins=bins)\n",
    "\n",
    "#the following shows bivariate relationship between combined guaranteed income and salary\n",
    "#sns.jointplot(x=\"salary\", y=\"combined_GI\", data=vis12Clean, size = 10, ratio=2, space =0.05)\n",
    "\n",
    "#bins = [10000, 30000, 40000, 50000, 60000, 75000, 100000, 150000, 7500000]\n",
    "#sns.regplot(x=\"salary\", y=\"combined_GI\", data=vis12Clean, x_bins=bins) ## can also specify bins by #"
   ]
  },
  {
   "cell_type": "code",
   "execution_count": null,
   "metadata": {
    "collapsed": true
   },
   "outputs": [],
   "source": []
  },
  {
   "cell_type": "code",
   "execution_count": 79,
   "metadata": {},
   "outputs": [
    {
     "name": "stdout",
     "output_type": "stream",
     "text": [
      "Category                         Weight\n",
      "----------------------------  ---------\n",
      "Middle Age No Guar Inc or SS  0.0217822\n",
      "Middle Age No Guar Inc        0.827723\n",
      "Middle Age Guar Inc Low       0.138614\n",
      "Middle Age Guar Inc High      0.0118812\n",
      "0.0019801980198\n"
     ]
    },
    {
     "name": "stderr",
     "output_type": "stream",
     "text": [
      "/Users/looks/anaconda3/lib/python3.6/site-packages/ipykernel_launcher.py:3: SettingWithCopyWarning:\n",
      "\n",
      "\n",
      "A value is trying to be set on a copy of a slice from a DataFrame.\n",
      "Try using .loc[row_indexer,col_indexer] = value instead\n",
      "\n",
      "See the caveats in the documentation: http://pandas.pydata.org/pandas-docs/stable/indexing.html#indexing-view-versus-copy\n",
      "\n",
      "/Users/looks/anaconda3/lib/python3.6/site-packages/ipykernel_launcher.py:4: SettingWithCopyWarning:\n",
      "\n",
      "\n",
      "A value is trying to be set on a copy of a slice from a DataFrame.\n",
      "Try using .loc[row_indexer,col_indexer] = value instead\n",
      "\n",
      "See the caveats in the documentation: http://pandas.pydata.org/pandas-docs/stable/indexing.html#indexing-view-versus-copy\n",
      "\n"
     ]
    }
   ],
   "source": [
    "#Weights by Guaranteed Income and SS Benefit by Middle Age\n",
    "GuarIncSSBenAndAge = df.iloc[:,[0, 2, 9, 10,11]]\n",
    "GuarIncSSBenAndAge['combined_GI'] = GuarIncSSBenAndAge['pensions'] + GuarIncSSBenAndAge['annuities'] \n",
    "GuarIncSSBenAndAge['ratio'] = GuarIncSSBenAndAge['combined_GI']/GuarIncSSBenAndAge['salary']\n",
    "\n",
    "CountMiddle = sum((df.age>50) & (df.age<=60))\n",
    "WeightMiddleNoGuarIncNoSS = sum((GuarIncSSBenAndAge.age>50) \n",
    "                                & (GuarIncSSBenAndAge.age<=60) \n",
    "                                &(GuarIncSSBenAndAge.combined_GI == 0)\n",
    "                                &(GuarIncSSBenAndAge.social_security_benefit <= 10000))/CountMiddle\n",
    "#print(WeightMiddleNoGuarIncNoSS)\n",
    "\n",
    "WeightMiddleNoGuarIncSSBenefit = sum((GuarIncSSBenAndAge.age>50) \n",
    "                                     & (GuarIncSSBenAndAge.age<=60) \n",
    "                                     &(GuarIncSSBenAndAge.combined_GI == 0)\n",
    "                                     &(GuarIncSSBenAndAge.social_security_benefit > 10000))/CountMiddle\n",
    "\n",
    "#print(WeightMiddleNoGuarIncSSBenefit)\n",
    "\n",
    "WeightMiddleGuarIncNoSS = sum((GuarIncSSBenAndAge.age>50) \n",
    "                              & (GuarIncSSBenAndAge.age<=60) \n",
    "                              &(GuarIncSSBenAndAge.combined_GI > 0)\n",
    "                              &(GuarIncSSBenAndAge.social_security_benefit <= 10000))/CountMiddle\n",
    "\n",
    "#print(WeightMiddleGuarIncNoSS) \n",
    "\n",
    "WeightMiddleGuarIncLowSS = sum((GuarIncSSBenAndAge.age>50) & (GuarIncSSBenAndAge.age<=60) \n",
    "                               &(GuarIncSSBenAndAge.combined_GI > 0)& (GuarIncSSBenAndAge.ratio <= 0.5) \n",
    "                               &(GuarIncSSBenAndAge.social_security_benefit > 10000))/CountMiddle\n",
    "WeightMiddleGuarIncLow = WeightMiddleGuarIncLowSS + WeightMiddleGuarIncNoSS\n",
    "#print(WeightMiddleGuarIncLow)\n",
    "\n",
    "#Calculate proportion of investors who are SS < $10k and have guaranteed income and assign to investors with SS but no Guar Inc\n",
    "WeightMiddleGuarIncHighNoSS = sum((GuarIncSSBenAndAge.age>50) & (GuarIncSSBenAndAge.age<=60) &\n",
    "                                  (GuarIncSSBenAndAge.combined_GI > 0.5) \n",
    "                                  &(GuarIncSSBenAndAge.social_security_benefit < 10000))/CountMiddle\n",
    "\n",
    "WeightMiddleNoGuarIncSSBenefit = WeightMiddleNoGuarIncSSBenefit + WeightMiddleGuarIncHighNoSS\n",
    "\n",
    "#Remaining weight attributable to high guaranteed income\n",
    "WeightMiddleGuarIncHigh = 1 - WeightMiddleNoGuarIncNoSS - WeightMiddleNoGuarIncSSBenefit - WeightMiddleGuarIncLow\n",
    "\n",
    "print (tabulate([[\"Middle Age No Guar Inc or SS\", WeightMiddleNoGuarIncNoSS], [\"Middle Age No Guar Inc\", WeightMiddleNoGuarIncSSBenefit], \n",
    "                 [\"Middle Age Guar Inc Low\", WeightMiddleGuarIncLow], [\"Middle Age Guar Inc High\", WeightMiddleGuarIncHigh]], \n",
    "         headers=['Category', 'Weight']))\n",
    "\n",
    "\n",
    "\n",
    "print(WeightMiddleGuarIncHighNoSS)"
   ]
  },
  {
   "cell_type": "code",
   "execution_count": 80,
   "metadata": {},
   "outputs": [
    {
     "name": "stdout",
     "output_type": "stream",
     "text": [
      "Category                      Weight\n",
      "-------------------------  ---------\n",
      "Old Age No Guar Inc or SS  0.0224404\n",
      "Old Age No Guar Inc        0.639551\n",
      "Old Age Guar Inc Low       0.286115\n",
      "Old Age Guar Inc High      0.0518934\n"
     ]
    }
   ],
   "source": [
    "#Weights by Guaranteed Income and SS Benefit by Old Age\n",
    "CountOld= sum((df.age>60))\n",
    "\n",
    "WeightOldNoGuarIncNoSS = sum((GuarIncSSBenAndAge.age>60) \n",
    "                             &(GuarIncSSBenAndAge.combined_GI == 0)\n",
    "                             &(GuarIncSSBenAndAge.social_security_benefit <= 10000))/CountOld\n",
    "#print(WeightOldNoGuarIncNoSS)\n",
    "\n",
    "WeightOldNoGuarIncSSBenefit = sum((GuarIncSSBenAndAge.age>60) \n",
    "                                  &(GuarIncSSBenAndAge.combined_GI == 0)\n",
    "                                  &(GuarIncSSBenAndAge.social_security_benefit > 10000))/CountOld\n",
    "\n",
    "#print(WeightOldNoGuarIncSSBenefit)\n",
    "\n",
    "WeightOldGuarIncNoSS = sum((GuarIncSSBenAndAge.age>60) \n",
    "                           &(GuarIncSSBenAndAge.combined_GI > 0)\n",
    "                           &(GuarIncSSBenAndAge.social_security_benefit <= 10000))/CountOld\n",
    "\n",
    "#print(WeightOldGuarIncNoSS)\n",
    "\n",
    "WeightOldGuarIncLowSS = sum((GuarIncSSBenAndAge.age>60) \n",
    "                            &(GuarIncSSBenAndAge.combined_GI > 0) \n",
    "                            &(GuarIncSSBenAndAge.ratio <= 0.5) \n",
    "                            &(GuarIncSSBenAndAge.social_security_benefit > 10000))/CountOld\n",
    "#print(WeightOldGuarIncLow)\n",
    "\n",
    "#Calculate proportion of investors who are SS < $10k and have guaranteed income and assign to investors with SS but no Guar Inc\n",
    "WeightOldGuarIncHighNoSS = sum((GuarIncSSBenAndAge.age>60) &\n",
    "                                  (GuarIncSSBenAndAge.combined_GI > 0.5) \n",
    "                                  &(GuarIncSSBenAndAge.social_security_benefit < 10000))/CountOld\n",
    "\n",
    "WeightOldNoGuarIncSSBenefit = WeightOldNoGuarIncSSBenefit + WeightOldGuarIncHighNoSS\n",
    "\n",
    "WeightOldGuarIncLow = WeightOldGuarIncNoSS +WeightOldGuarIncLowSS\n",
    "WeightOldGuarIncHigh = 1 - WeightOldNoGuarIncNoSS - WeightOldNoGuarIncSSBenefit - WeightOldGuarIncLow\n",
    "\n",
    "print (tabulate([[\"Old Age No Guar Inc or SS\", WeightOldNoGuarIncNoSS], [\"Old Age No Guar Inc\", WeightOldNoGuarIncSSBenefit], \n",
    "                [\"Old Age Guar Inc Low\", WeightOldGuarIncLow], [\"Old Age Guar Inc High\", WeightOldGuarIncHigh]], \n",
    "         headers=['Category', 'Weight']))"
   ]
  },
  {
   "cell_type": "code",
   "execution_count": 23,
   "metadata": {
    "scrolled": false
   },
   "outputs": [
    {
     "name": "stdout",
     "output_type": "stream",
     "text": [
      "Ratio of Married Investors who have a Spousal SS greater than $0 to number of married investors: 39%\n"
     ]
    },
    {
     "name": "stderr",
     "output_type": "stream",
     "text": [
      "/Users/looks/anaconda3/lib/python3.6/site-packages/ipykernel_launcher.py:6: SettingWithCopyWarning:\n",
      "\n",
      "\n",
      "A value is trying to be set on a copy of a slice from a DataFrame.\n",
      "Try using .loc[row_indexer,col_indexer] = value instead\n",
      "\n",
      "See the caveats in the documentation: http://pandas.pydata.org/pandas-docs/stable/indexing.html#indexing-view-versus-copy\n",
      "\n"
     ]
    }
   ],
   "source": [
    "#Visualization 13: Distribution of ratio of spouse social security benefit to investor (only married investors)\n",
    "vis13 = df.iloc[:,[2, 4, 11, 17]]\n",
    "\n",
    "#add filter for salary > 1000\n",
    "cleanSpouseSS = vis13[(vis13.spouse_social_security_benefit>1) & (vis13.salary > 1000)]\n",
    "cleanSpouseSS['ratio'] = cleanSpouseSS['spouse_social_security_benefit']/cleanSpouseSS['social_security_benefit']\n",
    "sns.distplot(cleanSpouseSS.ratio, kde=False, axlabel=\"Ratio of Investor SS to Spouse\")\n",
    "\n",
    "#quantiles\n",
    "#print(cleanSpouseSS.ratio.quantile([0.2, 0.4, 0.6, 0.8]))\n",
    "\n",
    "\n",
    "# ratio of married investors who do have spousal SS > 1 / count of married investors\n",
    "married = vis13[vis13.marital_status==True]\n",
    "marriedSpouseSS = vis13[(vis13.marital_status==True) & (vis13.spouse_social_security_benefit>1)]\n",
    "ratioSpouseSSMarried = np.true_divide(marriedSpouseSS.shape[0], married.shape[0])\n",
    "print (\"Ratio of Married Investors who have a Spousal SS greater than $0 to number of married investors: {0:.0f}%\".format(ratioSpouseSSMarried * 100))"
   ]
  },
  {
   "cell_type": "code",
   "execution_count": 24,
   "metadata": {},
   "outputs": [
    {
     "name": "stdout",
     "output_type": "stream",
     "text": [
      "0.2    0.395115\n",
      "0.4    0.462674\n",
      "0.6    0.500000\n",
      "0.8    0.670484\n",
      "Name: ratio, dtype: float64\n"
     ]
    },
    {
     "name": "stderr",
     "output_type": "stream",
     "text": [
      "/Users/looks/anaconda3/lib/python3.6/site-packages/ipykernel_launcher.py:6: SettingWithCopyWarning:\n",
      "\n",
      "\n",
      "A value is trying to be set on a copy of a slice from a DataFrame.\n",
      "Try using .loc[row_indexer,col_indexer] = value instead\n",
      "\n",
      "See the caveats in the documentation: http://pandas.pydata.org/pandas-docs/stable/indexing.html#indexing-view-versus-copy\n",
      "\n"
     ]
    }
   ],
   "source": [
    "#Visualization of spousal SS over investor SS benefit\n",
    "vis13 = df.iloc[:,[2, 4, 11, 17]]\n",
    "\n",
    "#add filter for salary > 1000\n",
    "cleanSpouseSS = vis13[(vis13.spouse_social_security_benefit>1) & (vis13.salary > 1000)]\n",
    "cleanSpouseSS['ratio'] = cleanSpouseSS['spouse_social_security_benefit']/cleanSpouseSS['social_security_benefit']\n",
    "bins=[0, 1, 2, 3, 4]\n",
    "plt.hist(cleanSpouseSS.ratio, bins=bins)\n",
    "plt.xlabel(\"Ratio of Investor SS to Spouse\")\n",
    "plt.ylabel(\"Couhttp://localhost:8889/notebooks/code/PythonBasics/TAProdDataAnalysis/TAProdDataAnalysis.ipynb#nt\")\n",
    "\n",
    "#quantiles\n",
    "print(cleanSpouseSS.ratio.quantile([0.2, 0.4, 0.6, 0.8]))"
   ]
  },
  {
   "cell_type": "code",
   "execution_count": 25,
   "metadata": {},
   "outputs": [
    {
     "name": "stdout",
     "output_type": "stream",
     "text": [
      "18\n"
     ]
    }
   ],
   "source": [
    "#calculate count of investors with $0 SS Benefit\n",
    "countNoSS = sum(df.social_security_benefit<1)\n",
    "print(countNoSS)"
   ]
  },
  {
   "cell_type": "code",
   "execution_count": 26,
   "metadata": {},
   "outputs": [
    {
     "data": {
      "image/png": "[encoded data removed]",
      "text/plain": [
       "<matplotlib.figure.Figure at 0x103d5b320>"
      ]
     },
     "metadata": {},
     "output_type": "display_data"
    },
    {
     "data": {
      "image/png": "[encoded data removed]",
      "text/plain": [
       "<matplotlib.figure.Figure at 0x112144518>"
      ]
     },
     "metadata": {},
     "output_type": "display_data"
    },
    {
     "name": "stdout",
     "output_type": "stream",
     "text": [
      "0.2    18000.00\n",
      "0.4    22344.00\n",
      "0.6    27052.80\n",
      "0.8    31962.24\n",
      "Name: social_security_benefit, dtype: float64\n"
     ]
    }
   ],
   "source": [
    "#Visualization 13 continued: Investor Social Security benefit\n",
    "InvestorSocialSecurityBen = df.iloc[:,[2, 4, 11, 17]]\n",
    "bins=[0,5000,10000,15000, 20000, 25000, 30000, 35000, 40000, 45000, 50000]\n",
    "plt.hist(df.social_security_benefit, bins=bins)\n",
    "plt.xlabel(\"Social Security\")\n",
    "plt.ylabel(\"Count\")\n",
    "plt.show()\n",
    "\n",
    "#quantiles\n",
    "print(df.social_security_benefit.quantile([0.2, 0.4, 0.6, 0.8]))"
   ]
  },
  {
   "cell_type": "code",
   "execution_count": 27,
   "metadata": {
    "scrolled": false
   },
   "outputs": [
    {
     "name": "stdout",
     "output_type": "stream",
     "text": [
      "Ratio of non-zero balance to total: 82.1088053842\n",
      "Ratio of zero balance to total: 17.8911946158\n"
     ]
    }
   ],
   "source": [
    "#Visualizations 14: Distribution of Sum of Advisable IRA Balance – unconditional\n",
    "\n",
    "# Roth IRA\n",
    "df.name_type_1.unique()\n",
    "roth_ira_1 = df.balance_1[df.name_type_1 == \"roth_ira\"]\n",
    "roth_ira_2 = df.balance_2[df.name_type_2 == \"roth_ira\"]\n",
    "roth_ira_3 = df.balance_3[df.name_type_3 == \"roth_ira\"]\n",
    "roth_ira_4 = df.balance_4[df.name_type_4 == \"roth_ira\"]\n",
    "roth_ira_5 = df.balance_5[df.name_type_5 == \"roth_ira\"]\n",
    "roth_ira_6 = df.balance_6[df.name_type_6 == \"roth_ira\"]\n",
    "roth_ira_7 = df.balance_7[df.name_type_7 == \"roth_ira\"]\n",
    "roth_ira_8 = df.balance_8[df.name_type_8 == \"roth_ira\"]\n",
    "roth_ira_9 = df.balance_9[df.name_type_9 == \"roth_ira\"]\n",
    "roth_ira_10 = df.balance_10[df.name_type_10 == \"roth_ira\"]\n",
    "roth_ira_11 = df.balance_11[df.name_type_11 == \"roth_ira\"]\n",
    "#traditional IRA\n",
    "traditional_ira_1 = df.balance_1[df.name_type_1 == \"traditional_ira\"]\n",
    "traditional_ira_2 = df.balance_2[df.name_type_2 == \"traditional_ira\"]\n",
    "traditional_ira_3 = df.balance_3[df.name_type_3 == \"traditional_ira\"]\n",
    "traditional_ira_4 = df.balance_4[df.name_type_4 == \"traditional_ira\"]\n",
    "traditional_ira_5 = df.balance_5[df.name_type_5 == \"traditional_ira\"]\n",
    "traditional_ira_6 = df.balance_6[df.name_type_6 == \"traditional_ira\"]\n",
    "traditional_ira_7 = df.balance_7[df.name_type_7 == \"traditional_ira\"]\n",
    "traditional_ira_8 = df.balance_8[df.name_type_8 == \"traditional_ira\"]\n",
    "traditional_ira_9 = df.balance_9[df.name_type_9 == \"traditional_ira\"]\n",
    "traditional_ira_10 = df.balance_10[df.name_type_10 == \"traditional_ira\"]\n",
    "traditional_ira_11 = df.balance_11[df.name_type_11 == \"traditional_ira\"]\n",
    "\n",
    "#Brokerage\n",
    "brokerage_1 = df.balance_1[df.name_type_1 == \"brokerage\"]\n",
    "brokerage_2 = df.balance_2[df.name_type_2 == \"brokerage\"]\n",
    "brokerage_3 = df.balance_3[df.name_type_3 == \"brokerage\"]\n",
    "brokerage_4 = df.balance_4[df.name_type_4 == \"brokerage\"]\n",
    "brokerage_5 = df.balance_5[df.name_type_5 == \"brokerage\"]\n",
    "brokerage_6 = df.balance_6[df.name_type_6 == \"brokerage\"]\n",
    "brokerage_7 = df.balance_7[df.name_type_7 == \"brokerage\"]\n",
    "brokerage_8 = df.balance_8[df.name_type_8 == \"brokerage\"]\n",
    "brokerage_9 = df.balance_9[df.name_type_9 == \"brokerage\"]\n",
    "brokerage_10 = df.balance_10[df.name_type_10 == \"brokerage\"]\n",
    "brokerage_11 = df.balance_11[df.name_type_11 == \"brokerage\"]\n",
    "\n",
    "\n",
    "IRA = [roth_ira_1, roth_ira_2, roth_ira_3, roth_ira_4, \n",
    "            roth_ira_5, roth_ira_6, roth_ira_7, roth_ira_8, \n",
    "            roth_ira_9, roth_ira_10, roth_ira_11,\n",
    "      traditional_ira_1, traditional_ira_2, traditional_ira_3, \n",
    "      traditional_ira_4, traditional_ira_5, traditional_ira_6, \n",
    "      traditional_ira_7, traditional_ira_8, traditional_ira_9, \n",
    "      traditional_ira_10, traditional_ira_11]\n",
    "\n",
    "\n",
    "Brokerage = [brokerage_1, brokerage_2, brokerage_3, brokerage_4, \n",
    "            brokerage_5, brokerage_6, brokerage_7, brokerage_8, \n",
    "            brokerage_9, brokerage_10, brokerage_11]\n",
    "\n",
    "\n",
    "\n",
    "# account balance must be greater than $0 \n",
    "iraAccounts = pd.DataFrame(pd.concat(IRA))\n",
    "iraAccounts.columns = ['ira_balance']\n",
    "cleanIRA = iraAccounts[iraAccounts.ira_balance > 1]\n",
    "#bins=[0,25000,50000,75000,100000,150000,500000,2500000]\n",
    "sns.distplot(cleanIRA, kde=False, bins=20)\n",
    "\n",
    "\n",
    "# proportion of users with $0 vs non-zero balance\n",
    "dirtyIRA = iraAccounts[iraAccounts.ira_balance < 1]\n",
    "countClean = cleanIRA.shape[0]\n",
    "countDirty = dirtyIRA.shape[0]\n",
    "countAll = iraAccounts.shape[0]\n",
    "\n",
    "\n",
    "print('Ratio of non-zero balance to total:', (100*(np.true_divide(countClean, countAll))))\n",
    "print('Ratio of zero balance to total:', (100*(np.true_divide(countDirty, countAll))))\n",
    "\n",
    "# ratio of sum of balances to salary \n",
    "cleanIRAWSalary = cleanIRA.merge(df[['salary']], left_index=True, right_index=True)\n",
    "cleanIRAWSalaryRatio = pd.DataFrame(np.true_divide(cleanIRAWSalary.ira_balance, cleanIRAWSalary.salary))"
   ]
  },
  {
   "cell_type": "code",
   "execution_count": 28,
   "metadata": {
    "collapsed": true
   },
   "outputs": [],
   "source": [
    "#Calculate sum of IRA and Brokerage account balance\n"
   ]
  },
  {
   "cell_type": "code",
   "execution_count": 29,
   "metadata": {
    "scrolled": false
   },
   "outputs": [
    {
     "data": {
      "image/png": "[encoded data removed]",
      "text/plain": [
       "<matplotlib.figure.Figure at 0x1120985c0>"
      ]
     },
     "metadata": {},
     "output_type": "display_data"
    }
   ],
   "source": [
    "# Visualization 15: Distribution of Sum of Advisable IRA Balance – conditional on marital status\n",
    "iradf = pd.concat(IRA)\n",
    "iradf = iradf.to_frame()\n",
    "iradf.columns = ['ira_balance']\n",
    "\n",
    "iraMarital = iradf.merge(df[['marital_status']], left_index=True, right_index=True)\n",
    "iraSingle = iraMarital[(iraMarital.ira_balance>0) & (iraMarital.marital_status==False)]\n",
    "iraMarried = iraMarital[(iraMarital.ira_balance>0) & (iraMarital.marital_status==True)]\n",
    "\n",
    "#plotting\n",
    "sns.distplot(iraMarried.ira_balance, kde=False, label = \"Married\")\n",
    "sns.distplot(iraSingle.ira_balance, kde=False, label=\"Single\")\n",
    "plt.legend()\n",
    "plt.show()"
   ]
  },
  {
   "cell_type": "code",
   "execution_count": 30,
   "metadata": {
    "scrolled": false
   },
   "outputs": [
    {
     "name": "stderr",
     "output_type": "stream",
     "text": [
      "/Users/looks/anaconda3/lib/python3.6/site-packages/numpy/core/fromnumeric.py:57: FutureWarning:\n",
      "\n",
      "reshape is deprecated and will raise in a subsequent release. Please use .values.reshape(...) instead\n",
      "\n"
     ]
    },
    {
     "data": {
      "image/png": "[encoded data removed]",
      "text/plain": [
       "<matplotlib.figure.Figure at 0x111d59438>"
      ]
     },
     "metadata": {},
     "output_type": "display_data"
    }
   ],
   "source": [
    "# Visualization 16: Distribution of Sum of Advisable IRA Balance – conditional on age\n",
    "iraAge = iradf.merge(df[['age']], left_index=True, right_index=True)\n",
    "iraAgeClean = iraAge[iraAge.ira_balance>0]\n",
    "#sns.regplot(x=\"age\", y=\"ira_balance\", data=iraAgeClean, x_bins=12)\n",
    "\n",
    "\n",
    "# define age groups here\n",
    "ageGroup1 = iraAgeClean.ira_balance[iraAgeClean.age<=30]\n",
    "ageGroup2 = iraAgeClean.ira_balance[(iraAgeClean.age<=31) & (iraAgeClean.age<=50)]\n",
    "ageGroup3 = iraAgeClean.ira_balance[(iraAgeClean.age<=51) & (iraAgeClean.age<=65)]\n",
    "ageGroup4 = iraAgeClean.ira_balance[(iraAgeClean.age<=66) & (iraAgeClean.age<=80)]\n",
    "\n",
    "\n",
    "data_to_plot = [ageGroup1, ageGroup2, ageGroup3, ageGroup4]\n",
    "\n",
    "\n",
    "# Create a figure instance\n",
    "fig = plt.figure(1, figsize=(9, 6))\n",
    "\n",
    "# Create an axes instance\n",
    "ax = fig.add_subplot(111)\n",
    "\n",
    "# Create the boxplot\n",
    "bp = ax.boxplot(data_to_plot, patch_artist=True, )\n",
    "ax.set_xlabel('Age Group')\n",
    "ax.set_ylabel('IRA Balance')\n",
    "ax.set_title('Sum of Advisable IRA by Age Group')\n",
    "ax.set_ylim([0, 300000])\n",
    "ax.set_xticklabels(['Less than 30', '31 - 50', '51 - 65', '66 - 80'])\n",
    "\n",
    "\n",
    "## change outline color, fill color and linewidth of the boxes\n",
    "for box in bp['boxes']:\n",
    "    # change outline color\n",
    "    box.set( color='#7570b3', linewidth=2)\n",
    "    # change fill color\n",
    "    box.set( facecolor = '#000080' )\n",
    "\n",
    "## change color and linewidth of the whiskers\n",
    "for whisker in bp['whiskers']:\n",
    "    whisker.set(color='#7570b3', linewidth=2)\n",
    "\n",
    "## change color and linewidth of the caps\n",
    "for cap in bp['caps']:\n",
    "    cap.set(color='#7570b3', linewidth=2)\n",
    "\n",
    "## change color and linewidth of the medians\n",
    "for median in bp['medians']:\n",
    "    median.set(color='#b2df8a', linewidth=2)\n",
    "\n",
    "## change the style of fliers and their fill\n",
    "for flier in bp['fliers']:\n",
    "    flier.set(marker='o', color='#e7298a', alpha=0.5)\n",
    "\n",
    "plt.show()"
   ]
  },
  {
   "cell_type": "code",
   "execution_count": 31,
   "metadata": {},
   "outputs": [
    {
     "name": "stderr",
     "output_type": "stream",
     "text": [
      "/Users/looks/anaconda3/lib/python3.6/site-packages/numpy/core/fromnumeric.py:57: FutureWarning:\n",
      "\n",
      "reshape is deprecated and will raise in a subsequent release. Please use .values.reshape(...) instead\n",
      "\n"
     ]
    },
    {
     "data": {
      "image/png": "[encoded data removed]",
      "text/plain": [
       "<matplotlib.figure.Figure at 0x1120f8208>"
      ]
     },
     "metadata": {},
     "output_type": "display_data"
    }
   ],
   "source": [
    "# Visualization 17: Distribution of Sum of Advisable IRA Balance – conditional on salary\n",
    "\n",
    "iraSalary = iradf.merge(df[['salary']], left_index=True, right_index=True)\n",
    "iraSalaryClean = iraSalary[(iraSalary.ira_balance>0) & (iraSalary.salary>1000)]\n",
    "#sns.jointplot(x=\"salary\", y=\"ira_balance\", data=iraSalaryClean, size = 10)\n",
    "\n",
    "# define salary groups here\n",
    "salaryGroup1 = iraSalaryClean.ira_balance[iraSalaryClean.salary<=40000]\n",
    "salaryGroup2 = iraSalaryClean.ira_balance[(iraSalaryClean.salary>=40001) & (iraSalaryClean.salary<=60000)]\n",
    "salaryGroup3 = iraSalaryClean.ira_balance[(iraSalaryClean.salary>=60001) & (iraSalaryClean.salary<=100000)]\n",
    "salaryGroup4 = iraSalaryClean.ira_balance[(iraSalaryClean.salary>=100001) & (iraSalaryClean.salary<=150000)]\n",
    "salaryGroup5 = iraSalaryClean.ira_balance[(iraSalaryClean.salary>=150001) & (iraSalaryClean.salary<=300000)]\n",
    "\n",
    "\n",
    "data_to_plot = [salaryGroup1, salaryGroup2, salaryGroup3, salaryGroup4, salaryGroup5]\n",
    "\n",
    "\n",
    "# Create a figure instance\n",
    "fig = plt.figure(1, figsize=(9, 6))\n",
    "\n",
    "# Create an axes instance\n",
    "ax = fig.add_subplot(111)\n",
    "\n",
    "# Create the boxplot\n",
    "bp = ax.boxplot(data_to_plot, patch_artist=True, )\n",
    "ax.set_xlabel('Salary Group')\n",
    "ax.set_ylabel('IRA Balance')\n",
    "ax.set_title('Sum of Advisable IRA by Salary Group')\n",
    "ax.set_ylim([0, 300000])\n",
    "ax.set_xticklabels(['Less than 40k', '40k - 60k', '60k - 100k', '100k - 150k', '150k - 300k'])\n",
    "\n",
    "\n",
    "## change outline color, fill color and linewidth of the boxes\n",
    "for box in bp['boxes']:\n",
    "    # change outline color\n",
    "    box.set( color='#7570b3', linewidth=2)\n",
    "    # change fill color\n",
    "    box.set( facecolor = '#1b9e77' )\n",
    "\n",
    "## change color and linewidth of the whiskers\n",
    "for whisker in bp['whiskers']:\n",
    "    whisker.set(color='#7570b3', linewidth=2)\n",
    "\n",
    "## change color and linewidth of the caps\n",
    "for cap in bp['caps']:\n",
    "    cap.set(color='#7570b3', linewidth=2)\n",
    "\n",
    "## change color and linewidth of the medians\n",
    "for median in bp['medians']:\n",
    "    median.set(color='#b2df8a', linewidth=2)\n",
    "\n",
    "## change the style of fliers and their fill\n",
    "for flier in bp['fliers']:\n",
    "    flier.set(marker='o', color='#e7298a', alpha=0.5)  \n",
    "\n",
    "plt.show()"
   ]
  },
  {
   "cell_type": "code",
   "execution_count": 32,
   "metadata": {},
   "outputs": [
    {
     "name": "stdout",
     "output_type": "stream",
     "text": [
      "Category         Weight\n",
      "-------------  --------\n",
      "Low Salary     0.474767\n",
      "Middle Salary  0.353748\n",
      "High Salary    0.171485\n"
     ]
    }
   ],
   "source": [
    "#Salary Level Weights\n",
    "TotalCount=df.age.count()\n",
    "\n",
    "salaryLow= sum(df.salary<=60000)\n",
    "salaryMedium = sum((df.salary>=60001) & (df.salary <=100000))\n",
    "salaryHigh = sum(df.salary>=100001)\n",
    "\n",
    "#print(salaryLow/TotalCount)\n",
    "#print(salaryMedium/TotalCount)\n",
    "#print(salaryHigh/TotalCount)     \n",
    "\n",
    "print (tabulate([[\"Low Salary\", salaryLow/TotalCount], [\"Middle Salary\", salaryMedium/TotalCount], \n",
    "                [\"High Salary\", salaryHigh/TotalCount]], \n",
    "         headers=['Category', 'Weight']))\n"
   ]
  },
  {
   "cell_type": "code",
   "execution_count": 33,
   "metadata": {},
   "outputs": [
    {
     "name": "stderr",
     "output_type": "stream",
     "text": [
      "/Users/looks/anaconda3/lib/python3.6/site-packages/ipykernel_launcher.py:7: SettingWithCopyWarning:\n",
      "\n",
      "\n",
      "A value is trying to be set on a copy of a slice from a DataFrame.\n",
      "Try using .loc[row_indexer,col_indexer] = value instead\n",
      "\n",
      "See the caveats in the documentation: http://pandas.pydata.org/pandas-docs/stable/indexing.html#indexing-view-versus-copy\n",
      "\n"
     ]
    },
    {
     "data": {
      "text/html": [
       "<div>\n",
       "<style>\n",
       "    .dataframe thead tr:only-child th {\n",
       "        text-align: right;\n",
       "    }\n",
       "\n",
       "    .dataframe thead th {\n",
       "        text-align: left;\n",
       "    }\n",
       "\n",
       "    .dataframe tbody tr th {\n",
       "        vertical-align: top;\n",
       "    }\n",
       "</style>\n",
       "<table border=\"1\" class=\"dataframe\">\n",
       "  <thead>\n",
       "    <tr style=\"text-align: right;\">\n",
       "      <th></th>\n",
       "      <th>ira_balance</th>\n",
       "      <th>salary</th>\n",
       "      <th>ratio</th>\n",
       "    </tr>\n",
       "  </thead>\n",
       "  <tbody>\n",
       "    <tr>\n",
       "      <th>0.05</th>\n",
       "      <td>4499.016393</td>\n",
       "      <td>25000.0</td>\n",
       "      <td>0.065324</td>\n",
       "    </tr>\n",
       "    <tr>\n",
       "      <th>0.10</th>\n",
       "      <td>10100.997300</td>\n",
       "      <td>34000.0</td>\n",
       "      <td>0.132654</td>\n",
       "    </tr>\n",
       "    <tr>\n",
       "      <th>0.50</th>\n",
       "      <td>60207.969000</td>\n",
       "      <td>65000.0</td>\n",
       "      <td>0.913628</td>\n",
       "    </tr>\n",
       "    <tr>\n",
       "      <th>0.95</th>\n",
       "      <td>420629.249000</td>\n",
       "      <td>150000.0</td>\n",
       "      <td>6.457150</td>\n",
       "    </tr>\n",
       "  </tbody>\n",
       "</table>\n",
       "</div>"
      ],
      "text/plain": [
       "        ira_balance    salary     ratio\n",
       "0.05    4499.016393   25000.0  0.065324\n",
       "0.10   10100.997300   34000.0  0.132654\n",
       "0.50   60207.969000   65000.0  0.913628\n",
       "0.95  420629.249000  150000.0  6.457150"
      ]
     },
     "execution_count": 33,
     "metadata": {},
     "output_type": "execute_result"
    }
   ],
   "source": [
    "# Account Balance Dimension\n",
    "\n",
    "iraSalary = iradf.merge(df[['salary']], left_index=True, right_index=True)\n",
    "iraSalaryClean = iraSalary[(iraSalary.ira_balance>0) & (iraSalary.salary>1000)]\n",
    "\n",
    "#Calculate ratio of IRA account balance over salary\n",
    "iraSalaryClean['ratio'] = iraSalaryClean['ira_balance']/iraSalaryClean['salary'] \n",
    "iraSalaryClean.quantile([0.05,0.1,0.5,0.95])"
   ]
  },
  {
   "cell_type": "code",
   "execution_count": null,
   "metadata": {
    "collapsed": true
   },
   "outputs": [],
   "source": []
  },
  {
   "cell_type": "code",
   "execution_count": 34,
   "metadata": {
    "collapsed": true
   },
   "outputs": [],
   "source": [
    "# DEPRECATED\n",
    "#salaryGroup1 = iraSalaryClean.ira_balance[iraSalaryClean.salary<=60000]\n",
    "#iraGroup1 = salaryGroup1.apply(divideBySalaryGroup1) #divide by low salary \n",
    "#quantiles\n",
    "#iraGroup1.quantile([0.25,0.5,0.75])"
   ]
  },
  {
   "cell_type": "code",
   "execution_count": 35,
   "metadata": {
    "collapsed": true
   },
   "outputs": [],
   "source": [
    "# DEPRECATED\n",
    "#salary group 2\n",
    "#salaryGroup2 = iraSalaryClean.ira_balance[(iraSalaryClean.salary>=60001) & (iraSalaryClean.salary<=100000)]\n",
    "#iraGroup2 = salaryGroup2.apply(divideBySalaryGroup2) #divide by medium salary\n",
    "#quantiles\n",
    "#iraGroup2.quantile([0.25,0.5,0.75])"
   ]
  },
  {
   "cell_type": "code",
   "execution_count": 36,
   "metadata": {
    "collapsed": true
   },
   "outputs": [],
   "source": [
    "# DEPRECATED\n",
    "#salary group 3\n",
    "#salaryGroup3 = iraSalaryClean.ira_balance[(iraSalaryClean.salary>=100001)]\n",
    "#iraGroup3 = salaryGroup2.apply(divideBySalaryGroup3) #divide by high salary\n",
    "#quantiles\n",
    "#iraGroup3.quantile([0.25,0.5,0.75])"
   ]
  },
  {
   "cell_type": "code",
   "execution_count": 37,
   "metadata": {
    "collapsed": true
   },
   "outputs": [],
   "source": [
    "# DEPRECATED\n",
    "#iraSalaryClean = iraSalary[(iraSalary.ira_balance>0) & (iraSalary.salary>1000)]\n",
    "#salaryGroupAll = iraSalaryClean.ira_balance\n",
    "#iraGroupAll = salaryGroupAll.apply(divideBySalaryGroup1)\n",
    "#iraGroupAll.quantile([0.25,0.5,0.75])"
   ]
  },
  {
   "cell_type": "code",
   "execution_count": 38,
   "metadata": {
    "collapsed": true
   },
   "outputs": [],
   "source": [
    "# DEPRECATED\n",
    "#iraSalaryClean = iraSalary[(iraSalary.ira_balance>0) & (iraSalary.salary>1000)]\n",
    "#salaryGroupAll = iraSalaryClean.ira_balance\n",
    "#iraGroupAll = salaryGroupAll.apply(divideBySalaryGroup2)\n",
    "#iraGroupAll.quantile([0.1,0.5,0.9])"
   ]
  },
  {
   "cell_type": "code",
   "execution_count": 39,
   "metadata": {},
   "outputs": [
    {
     "data": {
      "image/png": "[encoded data removed]",
      "text/plain": [
       "<matplotlib.figure.Figure at 0x112500cc0>"
      ]
     },
     "metadata": {},
     "output_type": "display_data"
    }
   ],
   "source": [
    "# Visualization 18: Distribution of Sum of Advisable Taxable Brokerage Account Balance – unconditional\n",
    "brokeragedf = pd.concat(Brokerage)\n",
    "brokeragedf = brokeragedf.to_frame()\n",
    "brokeragedf.columns = ['brokerage_balance']\n",
    "sns.distplot(brokeragedf, kde=False)\n",
    "plt.show()"
   ]
  },
  {
   "cell_type": "code",
   "execution_count": 40,
   "metadata": {},
   "outputs": [
    {
     "data": {
      "image/png": "[encoded data removed]",
      "text/plain": [
       "<matplotlib.figure.Figure at 0x111d82b00>"
      ]
     },
     "metadata": {},
     "output_type": "display_data"
    }
   ],
   "source": [
    "# Visualization 19: Distribution of Sum of Advisable Taxable Brokerage Balance – conditional on marital status\n",
    "\n",
    "brokerageMarital = brokeragedf.merge(df[['marital_status']], left_index=True, right_index=True)\n",
    "brokerageSingle = brokerageMarital[(brokerageMarital.brokerage_balance>0) & (brokerageMarital.marital_status==False)]\n",
    "brokerageMarried = brokerageMarital[(brokerageMarital.brokerage_balance>0) & (brokerageMarital.marital_status==True)]\n",
    "\n",
    "sns.distplot(brokerageMarried.brokerage_balance, kde=False, label = \"Married\")\n",
    "sns.distplot(brokerageSingle.brokerage_balance, kde=False, label=\"Single\")\n",
    "plt.legend()\n",
    "plt.show()"
   ]
  },
  {
   "cell_type": "code",
   "execution_count": 41,
   "metadata": {},
   "outputs": [
    {
     "name": "stderr",
     "output_type": "stream",
     "text": [
      "/Users/looks/anaconda3/lib/python3.6/site-packages/numpy/core/fromnumeric.py:57: FutureWarning:\n",
      "\n",
      "reshape is deprecated and will raise in a subsequent release. Please use .values.reshape(...) instead\n",
      "\n"
     ]
    },
    {
     "data": {
      "image/png": "[encoded data removed]",
      "text/plain": [
       "<matplotlib.figure.Figure at 0x111d59f98>"
      ]
     },
     "metadata": {},
     "output_type": "display_data"
    }
   ],
   "source": [
    "# Visualization 20: Distribution of Sum of Taxable Brokerage Balance – conditional on age\n",
    "brokerageAge = brokeragedf.merge(df[['age']], left_index=True, right_index=True)\n",
    "brokerageAgeClean = brokerageAge[brokerageAge.brokerage_balance>0]\n",
    "#sns.jointplot(x=\"age\", y=\"brokerage_balance\", data=brokerageAgeClean, size = 10)\n",
    "\n",
    "\n",
    "# define age groups here\n",
    "ageGroup1 = brokerageAgeClean.brokerage_balance[brokerageAgeClean.age<=30]\n",
    "ageGroup2 = brokerageAgeClean.brokerage_balance[(brokerageAgeClean.age<=31) & (brokerageAgeClean.age<=50)]\n",
    "ageGroup3 = brokerageAgeClean.brokerage_balance[(brokerageAgeClean.age<=51) & (brokerageAgeClean.age<=65)]\n",
    "ageGroup4 = brokerageAgeClean.brokerage_balance[(brokerageAgeClean.age<=66) & (brokerageAgeClean.age<=80)]\n",
    "\n",
    "\n",
    "data_to_plot = [ageGroup1, ageGroup2, ageGroup3, ageGroup4]\n",
    "\n",
    "\n",
    "# Create a figure instance\n",
    "fig = plt.figure(1, figsize=(9, 6))\n",
    "\n",
    "# Create an axes instance\n",
    "ax = fig.add_subplot(111)\n",
    "\n",
    "# Create the boxplot\n",
    "bp = ax.boxplot(data_to_plot, patch_artist=True, )\n",
    "ax.set_xlabel('Age Group')\n",
    "ax.set_ylabel('Brokerage Balance')\n",
    "ax.set_title('Sum of Brokerage IRA by Age Group')\n",
    "ax.set_ylim([0, 250000])\n",
    "ax.set_xticklabels(['Less than 30', '31 - 50', '51 - 65', '66 - 80'])\n",
    "\n",
    "\n",
    "## change outline color, fill color and linewidth of the boxes\n",
    "for box in bp['boxes']:\n",
    "    # change outline color\n",
    "    box.set( color='#7570b3', linewidth=2)\n",
    "    # change fill color\n",
    "    box.set( facecolor = '#000080' )\n",
    "\n",
    "## change color and linewidth of the whiskers\n",
    "for whisker in bp['whiskers']:\n",
    "    whisker.set(color='#7570b3', linewidth=2)\n",
    "\n",
    "## change color and linewidth of the caps\n",
    "for cap in bp['caps']:\n",
    "    cap.set(color='#7570b3', linewidth=2)\n",
    "\n",
    "## change color and linewidth of the medians\n",
    "for median in bp['medians']:\n",
    "    median.set(color='#b2df8a', linewidth=2)\n",
    "\n",
    "## change the style of fliers and their fill\n",
    "for flier in bp['fliers']:\n",
    "    flier.set(marker='o', color='#e7298a', alpha=0.5)\n",
    "\n",
    "plt.show()"
   ]
  },
  {
   "cell_type": "code",
   "execution_count": 42,
   "metadata": {},
   "outputs": [
    {
     "name": "stderr",
     "output_type": "stream",
     "text": [
      "/Users/looks/anaconda3/lib/python3.6/site-packages/numpy/core/fromnumeric.py:57: FutureWarning:\n",
      "\n",
      "reshape is deprecated and will raise in a subsequent release. Please use .values.reshape(...) instead\n",
      "\n"
     ]
    },
    {
     "data": {
      "image/png": "[encoded data removed]",
      "text/plain": [
       "<matplotlib.figure.Figure at 0x112419518>"
      ]
     },
     "metadata": {},
     "output_type": "display_data"
    }
   ],
   "source": [
    "# Visualization 21: Distribution of Sum of Taxable Brokerage Balance – conditional on salary\n",
    "brokerageSalary = brokeragedf.merge(df[['salary']], left_index=True, right_index=True)\n",
    "brokerageSalaryClean = brokerageSalary[(brokerageSalary.brokerage_balance>0) & (brokerageSalary.salary>1000)]\n",
    "#sns.jointplot(x=\"salary\", y=\"brokerage_balance\", data=brokerageSalaryClean, size = 10)\n",
    "\n",
    "\n",
    "# define salary groups here\n",
    "salaryGroup1 = brokerageSalaryClean.brokerage_balance[brokerageSalaryClean.salary<=40000]\n",
    "salaryGroup2 = brokerageSalaryClean.brokerage_balance[(brokerageSalaryClean.salary>=40001) & (brokerageSalaryClean.salary<=60000)]\n",
    "salaryGroup3 = brokerageSalaryClean.brokerage_balance[(brokerageSalaryClean.salary>=60001) & (brokerageSalaryClean.salary<=100000)]\n",
    "salaryGroup4 = brokerageSalaryClean.brokerage_balance[(brokerageSalaryClean.salary>=100001) & (brokerageSalaryClean.salary<=150000)]\n",
    "salaryGroup5 = brokerageSalaryClean.brokerage_balance[(brokerageSalaryClean.salary>=150001) & (brokerageSalaryClean.salary<=300000)]\n",
    "\n",
    "\n",
    "data_to_plot = [salaryGroup1, salaryGroup2, salaryGroup3, salaryGroup4, salaryGroup5]\n",
    "\n",
    "\n",
    "# Create a figure instance\n",
    "fig = plt.figure(1, figsize=(9, 6))\n",
    "\n",
    "# Create an axes instance\n",
    "ax = fig.add_subplot(111)\n",
    "\n",
    "# Create the boxplot\n",
    "bp = ax.boxplot(data_to_plot, patch_artist=True, )\n",
    "ax.set_xlabel('Salary Group')\n",
    "ax.set_ylabel('Brokerage Balance')\n",
    "ax.set_title('Sum of Brokerage Account Balance by Salary Group')\n",
    "ax.set_ylim([0, 250000])\n",
    "ax.set_xticklabels(['Less than 40k', '40k - 60k', '60k - 100k', '100k - 150k', '150k - 300k'])\n",
    "\n",
    "\n",
    "## change outline color, fill color and linewidth of the boxes\n",
    "for box in bp['boxes']:\n",
    "    # change outline color\n",
    "    box.set( color='#7570b3', linewidth=2)\n",
    "    # change fill color\n",
    "    box.set( facecolor = '#1b9e77' )\n",
    "\n",
    "## change color and linewidth of the whiskers\n",
    "for whisker in bp['whiskers']:\n",
    "    whisker.set(color='#7570b3', linewidth=2)\n",
    "\n",
    "## change color and linewidth of the caps\n",
    "for cap in bp['caps']:\n",
    "    cap.set(color='#7570b3', linewidth=2)\n",
    "\n",
    "## change color and linewidth of the medians\n",
    "for median in bp['medians']:\n",
    "    median.set(color='#b2df8a', linewidth=2)\n",
    "\n",
    "## change the style of fliers and their fill\n",
    "for flier in bp['fliers']:\n",
    "    flier.set(marker='o', color='#e7298a', alpha=0.5)    \n",
    "\n",
    "plt.show()"
   ]
  },
  {
   "cell_type": "code",
   "execution_count": 43,
   "metadata": {},
   "outputs": [
    {
     "name": "stderr",
     "output_type": "stream",
     "text": [
      "/Users/looks/anaconda3/lib/python3.6/site-packages/ipykernel_launcher.py:2: SettingWithCopyWarning:\n",
      "\n",
      "\n",
      "A value is trying to be set on a copy of a slice from a DataFrame.\n",
      "Try using .loc[row_indexer,col_indexer] = value instead\n",
      "\n",
      "See the caveats in the documentation: http://pandas.pydata.org/pandas-docs/stable/indexing.html#indexing-view-versus-copy\n",
      "\n"
     ]
    },
    {
     "data": {
      "text/html": [
       "<div>\n",
       "<style>\n",
       "    .dataframe thead tr:only-child th {\n",
       "        text-align: right;\n",
       "    }\n",
       "\n",
       "    .dataframe thead th {\n",
       "        text-align: left;\n",
       "    }\n",
       "\n",
       "    .dataframe tbody tr th {\n",
       "        vertical-align: top;\n",
       "    }\n",
       "</style>\n",
       "<table border=\"1\" class=\"dataframe\">\n",
       "  <thead>\n",
       "    <tr style=\"text-align: right;\">\n",
       "      <th></th>\n",
       "      <th>brokerage_balance</th>\n",
       "      <th>salary</th>\n",
       "      <th>ratio</th>\n",
       "    </tr>\n",
       "  </thead>\n",
       "  <tbody>\n",
       "    <tr>\n",
       "      <th>0.05</th>\n",
       "      <td>2763.225702</td>\n",
       "      <td>23928.0</td>\n",
       "      <td>0.035476</td>\n",
       "    </tr>\n",
       "    <tr>\n",
       "      <th>0.10</th>\n",
       "      <td>6122.188551</td>\n",
       "      <td>25400.0</td>\n",
       "      <td>0.061583</td>\n",
       "    </tr>\n",
       "    <tr>\n",
       "      <th>0.50</th>\n",
       "      <td>44780.833130</td>\n",
       "      <td>74000.0</td>\n",
       "      <td>0.930488</td>\n",
       "    </tr>\n",
       "    <tr>\n",
       "      <th>0.95</th>\n",
       "      <td>743057.062730</td>\n",
       "      <td>329200.0</td>\n",
       "      <td>6.591384</td>\n",
       "    </tr>\n",
       "  </tbody>\n",
       "</table>\n",
       "</div>"
      ],
      "text/plain": [
       "      brokerage_balance    salary     ratio\n",
       "0.05        2763.225702   23928.0  0.035476\n",
       "0.10        6122.188551   25400.0  0.061583\n",
       "0.50       44780.833130   74000.0  0.930488\n",
       "0.95      743057.062730  329200.0  6.591384"
      ]
     },
     "execution_count": 43,
     "metadata": {},
     "output_type": "execute_result"
    }
   ],
   "source": [
    "#Calculate ratio of brokerage account balance over salary\n",
    "brokerageSalaryClean['ratio'] = brokerageSalaryClean['brokerage_balance']/brokerageSalaryClean['salary'] \n",
    "brokerageSalaryClean.quantile([0.05,0.1,0.5,0.95])"
   ]
  },
  {
   "cell_type": "code",
   "execution_count": 44,
   "metadata": {
    "collapsed": true
   },
   "outputs": [],
   "source": [
    "# DEPRECATED\n",
    "#salaryGroup1 = brokerageSalaryClean.brokerage_balance[brokerageSalaryClean.salary<=60000]\n",
    "#salaryGroup2 = brokerageSalaryClean.brokerage_balance[(brokerageSalaryClean.salary>=60001) & (brokerageSalaryClean.salary<=100000)]\n",
    "#salaryGroup3 = brokerageSalaryClean.brokerage_balance[(brokerageSalaryClean.salary>=100001)]\n",
    "#brokerageSalaryClean = brokerageSalaryClean[(brokerageSalaryClean.brokerage_balance>0) & (brokerageSalaryClean.salary>1000)]\n",
    "\n",
    "#salaryGroupAll = brokerageSalaryClean.brokerage_balance\n",
    "#BrokerageGroupAll = salaryGroupAll.apply(divideBySalaryGroup2)\n",
    "#BrokerageGroupAll.quantile([0.1,0.5,0.90])"
   ]
  },
  {
   "cell_type": "code",
   "execution_count": 45,
   "metadata": {},
   "outputs": [
    {
     "data": {
      "image/png": "[encoded data removed]",
      "text/plain": [
       "<matplotlib.figure.Figure at 0x112500390>"
      ]
     },
     "metadata": {},
     "output_type": "display_data"
    }
   ],
   "source": [
    "# Visualization 22: Distribution of Sum of Other Account Balance – unconditional\n",
    "\n",
    "# 403b\n",
    "account_1_403b = df.balance_1[df.name_type_1 == \"403b\"]\n",
    "account_2_403b = df.balance_2[df.name_type_2 == \"403b\"]\n",
    "account_3_403b = df.balance_3[df.name_type_3 == \"403b\"]\n",
    "account_4_403b = df.balance_4[df.name_type_4 == \"403b\"]\n",
    "account_5_403b = df.balance_5[df.name_type_5 == \"403b\"]\n",
    "account_6_403b = df.balance_6[df.name_type_6 == \"403b\"]\n",
    "account_7_403b = df.balance_7[df.name_type_7 == \"403b\"]\n",
    "account_8_403b = df.balance_8[df.name_type_8 == \"403b\"]\n",
    "account_9_403b = df.balance_9[df.name_type_9 == \"403b\"]\n",
    "account_10_403b = df.balance_9[df.name_type_10 == \"403b\"]\n",
    "account_11_403b = df.balance_9[df.name_type_11 == \"403b\"]\n",
    "\n",
    "#account_403b = [account_1_403b, account_2_403b, account_3_403b, account_4_403b, \n",
    "#            account_5_403b, account_6_403b, account_7_403b, account_8_403b, \n",
    "#            account_9_403b, account_10_403b, account_11_403b]\n",
    "#sns.distplot(pd.concat(account_403b))\n",
    "\n",
    "# 401k\n",
    "account_1_401k = df.balance_1[df.name_type_1 == \"401k\"]\n",
    "account_2_401k = df.balance_2[df.name_type_2 == \"401k\"]\n",
    "account_3_401k = df.balance_3[df.name_type_3 == \"401k\"]\n",
    "account_4_401k = df.balance_4[df.name_type_4 == \"401k\"]\n",
    "account_5_401k = df.balance_5[df.name_type_5 == \"401k\"]\n",
    "account_6_401k = df.balance_6[df.name_type_6 == \"401k\"]\n",
    "account_7_401k = df.balance_7[df.name_type_7 == \"401k\"]\n",
    "account_8_401k = df.balance_8[df.name_type_8 == \"401k\"]\n",
    "account_9_401k = df.balance_9[df.name_type_9 == \"401k\"]\n",
    "account_10_401k = df.balance_9[df.name_type_10 == \"401k\"]\n",
    "account_11_401k = df.balance_9[df.name_type_11 == \"401k\"]\n",
    "\n",
    "#account_401k = [account_1_401k, account_2_401k, account_3_401k, account_4_401k, \n",
    "#            account_5_401k, account_6_401k, account_7_401k, account_8_401k, \n",
    "#            account_9_401k, account_10_401k, account_11_401k]\n",
    "\n",
    "# non_qualified_defined_contribution\n",
    "account_1_nqdc = df.balance_1[df.name_type_1 == \"non_qualified_defined_contribution\"]\n",
    "account_2_nqdc = df.balance_2[df.name_type_2 == \"non_qualified_defined_contribution\"]\n",
    "account_3_nqdc = df.balance_3[df.name_type_3 == \"non_qualified_defined_contribution\"]\n",
    "account_4_nqdc = df.balance_4[df.name_type_4 == \"non_qualified_defined_contribution\"]\n",
    "account_5_nqdc = df.balance_5[df.name_type_5 == \"non_qualified_defined_contribution\"]\n",
    "account_6_nqdc = df.balance_6[df.name_type_6 == \"non_qualified_defined_contribution\"]\n",
    "account_7_nqdc = df.balance_7[df.name_type_7 == \"non_qualified_defined_contribution\"]\n",
    "account_8_nqdc = df.balance_8[df.name_type_8 == \"non_qualified_defined_contribution\"]\n",
    "account_9_nqdc = df.balance_9[df.name_type_9 == \"non_qualified_defined_contribution\"]\n",
    "account_10_nqdc = df.balance_9[df.name_type_10 == \"non_qualified_defined_contribution\"]\n",
    "account_11_nqdc = df.balance_9[df.name_type_11 == \"non_qualified_defined_contribution\"]\n",
    "\n",
    "#account_nqdc = [account_1_nqdc, account_2_nqdc, account_3_nqdc, account_4_nqdc, \n",
    "#            account_5_nqdc, account_6_nqdc, account_7_nqdc, account_8_nqdc, \n",
    "#            account_9_nqdc, account_10_nqdc, account_11_nqdc]\n",
    "\n",
    "# profit_sharing\n",
    "account_1_ps = df.balance_1[df.name_type_1 == \"profit_sharing\"]\n",
    "account_2_ps = df.balance_2[df.name_type_2 == \"profit_sharing\"]\n",
    "account_3_ps = df.balance_3[df.name_type_3 == \"profit_sharing\"]\n",
    "account_4_ps = df.balance_4[df.name_type_4 == \"profit_sharing\"]\n",
    "account_5_ps = df.balance_5[df.name_type_5 == \"profit_sharing\"]\n",
    "account_6_ps = df.balance_6[df.name_type_6 == \"profit_sharing\"]\n",
    "account_7_ps = df.balance_7[df.name_type_7 == \"profit_sharing\"]\n",
    "account_8_ps = df.balance_8[df.name_type_8 == \"profit_sharing\"]\n",
    "account_9_ps = df.balance_9[df.name_type_9 == \"profit_sharing\"]\n",
    "account_10_ps = df.balance_9[df.name_type_10 == \"profit_sharing\"]\n",
    "account_11_ps = df.balance_9[df.name_type_11 == \"profit_sharing\"]\n",
    "\n",
    "#account_ps = [account_1_ps, account_2_ps, account_3_ps, account_4_ps, \n",
    "#            account_5_ps, account_6_ps, account_7_ps, account_8_ps, \n",
    "#            account_9_ps, account_10_ps, account_11_ps]\n",
    "\n",
    "# 401a\n",
    "account_1_401a = df.balance_1[df.name_type_1 == \"401a_money_purchase\"]\n",
    "account_2_401a = df.balance_2[df.name_type_2 == \"401a_money_purchase\"]\n",
    "account_3_401a = df.balance_3[df.name_type_3 == \"401a_money_purchase\"]\n",
    "account_4_401a = df.balance_4[df.name_type_4 == \"401a_money_purchase\"]\n",
    "account_5_401a = df.balance_5[df.name_type_5 == \"401a_money_purchase\"]\n",
    "account_6_401a = df.balance_6[df.name_type_6 == \"401a_money_purchase\"]\n",
    "account_7_401a = df.balance_7[df.name_type_7 == \"401a_money_purchase\"]\n",
    "account_8_401a = df.balance_8[df.name_type_8 == \"401a_money_purchase\"]\n",
    "account_9_401a = df.balance_9[df.name_type_9 == \"401a_money_purchase\"]\n",
    "account_10_401a = df.balance_9[df.name_type_10 == \"401a_money_purchase\"]\n",
    "account_11_401a = df.balance_9[df.name_type_11 == \"401a_money_purchase\"]\n",
    "\n",
    "#account_401a = [account_1_401a, account_2_401a, account_3_401a, account_4_401a, \n",
    "#            account_5_401a, account_6_401a, account_7_401a, account_8_401a, \n",
    "#            account_9_401a, account_10_401a, account_11_401a]\n",
    "\n",
    "# 457b\n",
    "account_1_457b = df.balance_1[df.name_type_1 == \"457b\"]\n",
    "account_2_457b = df.balance_2[df.name_type_2 == \"457b\"]\n",
    "account_3_457b = df.balance_3[df.name_type_3 == \"457b\"]\n",
    "account_4_457b = df.balance_4[df.name_type_4 == \"457b\"]\n",
    "account_5_457b = df.balance_5[df.name_type_5 == \"457b\"]\n",
    "account_6_457b = df.balance_6[df.name_type_6 == \"457b\"]\n",
    "account_7_457b = df.balance_7[df.name_type_7 == \"457b\"]\n",
    "account_8_457b = df.balance_8[df.name_type_8 == \"457b\"]\n",
    "account_9_457b = df.balance_9[df.name_type_9 == \"457b\"]\n",
    "account_10_457b = df.balance_9[df.name_type_10 == \"457b\"]\n",
    "account_11_457b = df.balance_9[df.name_type_11 == \"457b\"]\n",
    "\n",
    "#account_457b = [account_1_457b, account_2_457b, account_3_457b, account_4_457b, \n",
    "#            account_5_457b, account_6_457b, account_7_457b, account_8_457b, \n",
    "#            account_9_457b, account_10_457b, account_11_457b]\n",
    "\n",
    "# 457b_government\n",
    "account_1_457b_gov = df.balance_1[df.name_type_1 == \"457b_government\"]\n",
    "account_2_457b_gov = df.balance_2[df.name_type_2 == \"457b_government\"]\n",
    "account_3_457b_gov = df.balance_3[df.name_type_3 == \"457b_government\"]\n",
    "account_4_457b_gov = df.balance_4[df.name_type_4 == \"457b_government\"]\n",
    "account_5_457b_gov = df.balance_5[df.name_type_5 == \"457b_government\"]\n",
    "account_6_457b_gov = df.balance_6[df.name_type_6 == \"457b_government\"]\n",
    "account_7_457b_gov = df.balance_7[df.name_type_7 == \"457b_government\"]\n",
    "account_8_457b_gov = df.balance_8[df.name_type_8 == \"457b_government\"]\n",
    "account_9_457b_gov = df.balance_9[df.name_type_9 == \"457b_government\"]\n",
    "account_10_457b_gov = df.balance_9[df.name_type_10 == \"457b_government\"]\n",
    "account_11_457b_gov = df.balance_9[df.name_type_11 == \"457b_government\"]\n",
    "\n",
    "#account_457b_gov = [account_1_457b_gov, account_2_457b_gov, \n",
    "#            account_3_457b_gov, account_4_457b_gov, \n",
    "#            account_5_457b_gov, account_6_457b_gov, \n",
    "#            account_7_457b_gov, account_8_457b_gov, \n",
    "#            account_9_457b_gov, account_10_457b_gov, \n",
    "#            account_11_457b_gov]\n",
    "\n",
    "\n",
    "# 457b_non_profit\n",
    "account_1_457b_np = df.balance_1[df.name_type_1 == \"457b_non_profit\"]\n",
    "account_2_457b_np = df.balance_2[df.name_type_2 == \"457b_non_profit\"]\n",
    "account_3_457b_np = df.balance_3[df.name_type_3 == \"457b_non_profit\"]\n",
    "account_4_457b_np = df.balance_4[df.name_type_4 == \"457b_non_profit\"]\n",
    "account_5_457b_np = df.balance_5[df.name_type_5 == \"457b_non_profit\"]\n",
    "account_6_457b_np = df.balance_6[df.name_type_6 == \"457b_non_profit\"]\n",
    "account_7_457b_np = df.balance_7[df.name_type_7 == \"457b_non_profit\"]\n",
    "account_8_457b_np = df.balance_8[df.name_type_8 == \"457b_non_profit\"]\n",
    "account_9_457b_np = df.balance_9[df.name_type_9 == \"457b_non_profit\"]\n",
    "account_10_457b_np = df.balance_9[df.name_type_10 == \"457b_non_profit\"]\n",
    "account_11_457b_np = df.balance_9[df.name_type_11 == \"457b_non_profit\"]\n",
    "\n",
    "#account_457b_np = [account_1_457b_np, account_2_457b_np, \n",
    "#            account_3_457b_np, account_4_457b_np, \n",
    "#            account_5_457b_np, account_6_457b_np, \n",
    "#            account_7_457b_np, account_8_457b_np, \n",
    "#            account_9_457b_np, account_10_457b_np, \n",
    "#            account_11_457b_np]\n",
    "\n",
    "\n",
    "# esop\n",
    "account_1_esop = df.balance_1[df.name_type_1 == \"esop\"]\n",
    "account_2_esop = df.balance_2[df.name_type_2 == \"esop\"]\n",
    "account_3_esop = df.balance_3[df.name_type_3 == \"esop\"]\n",
    "account_4_esop = df.balance_4[df.name_type_4 == \"esop\"]\n",
    "account_5_esop = df.balance_5[df.name_type_5 == \"esop\"]\n",
    "account_6_esop = df.balance_6[df.name_type_6 == \"esop\"]\n",
    "account_7_esop = df.balance_7[df.name_type_7 == \"esop\"]\n",
    "account_8_esop = df.balance_8[df.name_type_8 == \"esop\"]\n",
    "account_9_esop = df.balance_9[df.name_type_9 == \"esop\"]\n",
    "account_10_esop = df.balance_9[df.name_type_10 == \"esop\"]\n",
    "account_11_esop = df.balance_9[df.name_type_11 == \"esop\"]\n",
    "\n",
    "#account_esop = [account_1_esop, account_2_esop, account_3_esop, account_4_esop, \n",
    "#            account_5_esop, account_6_esop, account_7_esop, account_8_esop, \n",
    "#            account_9_esop, account_10_esop, account_11_esop]\n",
    "\n",
    "# checking\n",
    "account_1_checking = df.balance_1[df.name_type_1 == \"checking\"]\n",
    "account_2_checking = df.balance_2[df.name_type_2 == \"checking\"]\n",
    "account_3_checking = df.balance_3[df.name_type_3 == \"checking\"]\n",
    "account_4_checking = df.balance_4[df.name_type_4 == \"checking\"]\n",
    "account_5_checking = df.balance_5[df.name_type_5 == \"checking\"]\n",
    "account_6_checking = df.balance_6[df.name_type_6 == \"checking\"]\n",
    "account_7_checking = df.balance_7[df.name_type_7 == \"checking\"]\n",
    "account_8_checking = df.balance_8[df.name_type_8 == \"checking\"]\n",
    "account_9_checking = df.balance_9[df.name_type_9 == \"checking\"]\n",
    "account_10_checking = df.balance_9[df.name_type_10 == \"checking\"]\n",
    "account_11_checking = df.balance_9[df.name_type_11 == \"checking\"]\n",
    "\n",
    "#account_checking = [account_1_checking, account_2_checking, account_3_checking, \n",
    "#            account_4_checking, account_5_checking, account_6_checking, \n",
    "#            account_7_checking, account_8_checking, \n",
    "#            account_9_checking, account_10_checking, \n",
    "#            account_11_checking]\n",
    "\n",
    "\n",
    "# thrift_savings_plan\n",
    "account_1_tsp = df.balance_1[df.name_type_1 == \"thrift_savings_plan\"]\n",
    "account_2_tsp = df.balance_2[df.name_type_2 == \"thrift_savings_plan\"]\n",
    "account_3_tsp = df.balance_3[df.name_type_3 == \"thrift_savings_plan\"]\n",
    "account_4_tsp = df.balance_4[df.name_type_4 == \"thrift_savings_plan\"]\n",
    "account_5_tsp = df.balance_5[df.name_type_5 == \"thrift_savings_plan\"]\n",
    "account_6_tsp = df.balance_6[df.name_type_6 == \"thrift_savings_plan\"]\n",
    "account_7_tsp = df.balance_7[df.name_type_7 == \"thrift_savings_plan\"]\n",
    "account_8_tsp = df.balance_8[df.name_type_8 == \"thrift_savings_plan\"]\n",
    "account_9_tsp = df.balance_9[df.name_type_9 == \"thrift_savings_plan\"]\n",
    "account_10_tsp = df.balance_9[df.name_type_10 == \"thrift_savings_plan\"]\n",
    "account_11_tsp = df.balance_9[df.name_type_11 == \"thrift_savings_plan\"]\n",
    "\n",
    "#account_tsp = [account_1_tsp, account_2_tsp, account_3_tsp, account_4_tsp, \n",
    "#            account_5_tsp, account_6_tsp, account_7_tsp, account_8_tsp, \n",
    "#            account_9_tsp, account_10_tsp, account_11_tsp]\n",
    "\n",
    "\n",
    "#other_accounts = [account_403b, account_401k, account_nqdc, account_ps,\n",
    "#                 account_401a, account_457b, account_457b_gov, account_457b_np,\n",
    "#                 account_esop, account_checking, account_tsp]\n",
    "\n",
    "\n",
    "other_accounts = [\n",
    "    #403b\n",
    "    account_1_403b, account_2_403b, account_3_403b, account_4_403b, \n",
    "    account_5_403b, account_6_403b, account_7_403b, account_8_403b, \n",
    "    account_9_403b, account_10_403b, account_11_403b,\n",
    "    \n",
    "    #401k\n",
    "    account_1_401k, account_2_401k, account_3_401k, account_4_401k, \n",
    "    account_5_401k, account_6_401k, account_7_401k, account_8_401k, \n",
    "    account_9_401k, account_10_401k, account_11_401k,\n",
    "    \n",
    "    #nqdc\n",
    "    account_1_nqdc, account_2_nqdc, account_3_nqdc, account_4_nqdc, \n",
    "    account_5_nqdc, account_6_nqdc, account_7_nqdc, account_8_nqdc, \n",
    "    account_9_nqdc, account_10_nqdc, account_11_nqdc,\n",
    "    \n",
    "    #ps\n",
    "    account_1_ps, account_2_ps, account_3_ps, account_4_ps, \n",
    "    account_5_ps, account_6_ps, account_7_ps, account_8_ps, \n",
    "    account_9_ps, account_10_ps, account_11_ps,\n",
    "    \n",
    "    #401a\n",
    "    account_1_401a, account_2_401a, account_3_401a, account_4_401a, \n",
    "    account_5_401a, account_6_401a, account_7_401a, account_8_401a, \n",
    "    account_9_401a, account_10_401a, account_11_401a,\n",
    "    \n",
    "    #457b\n",
    "    account_1_457b, account_2_457b, account_3_457b, account_4_457b, \n",
    "    account_5_457b, account_6_457b, account_7_457b, account_8_457b, \n",
    "    account_9_457b, account_10_457b, account_11_457b,\n",
    "    \n",
    "    #457b_gov\n",
    "    account_1_457b_gov, account_2_457b_gov, \n",
    "    account_3_457b_gov, account_4_457b_gov, \n",
    "    account_5_457b_gov, account_6_457b_gov, \n",
    "    account_7_457b_gov, account_8_457b_gov, \n",
    "    account_9_457b_gov, account_10_457b_gov, \n",
    "    account_11_457b_gov,\n",
    "    \n",
    "    #457b_np\n",
    "    account_1_457b_np, account_2_457b_np, \n",
    "    account_3_457b_np, account_4_457b_np, \n",
    "    account_5_457b_np, account_6_457b_np, \n",
    "    account_7_457b_np, account_8_457b_np, \n",
    "    account_9_457b_np, account_10_457b_np, \n",
    "    account_11_457b_np,\n",
    "    \n",
    "    #esop\n",
    "    account_1_esop, account_2_esop, account_3_esop, account_4_esop, \n",
    "    account_5_esop, account_6_esop, account_7_esop, account_8_esop, \n",
    "    account_9_esop, account_10_esop, account_11_esop,\n",
    "    \n",
    "    #checking\n",
    "    account_1_checking, account_2_checking, account_3_checking, \n",
    "    account_4_checking, account_5_checking, account_6_checking, \n",
    "    account_7_checking, account_8_checking, \n",
    "    account_9_checking, account_10_checking, \n",
    "    account_11_checking,\n",
    "    \n",
    "    #tsp\n",
    "    account_1_tsp, account_2_tsp, account_3_tsp, account_4_tsp, \n",
    "    account_5_tsp, account_6_tsp, account_7_tsp, account_8_tsp, \n",
    "    account_9_tsp, account_10_tsp, account_11_tsp\n",
    "\n",
    "]\n",
    "\n",
    "sns.distplot(pd.concat(other_accounts), kde=False)\n",
    "plt.show()"
   ]
  },
  {
   "cell_type": "code",
   "execution_count": null,
   "metadata": {
    "collapsed": true
   },
   "outputs": [],
   "source": []
  },
  {
   "cell_type": "code",
   "execution_count": 46,
   "metadata": {},
   "outputs": [
    {
     "data": {
      "text/plain": [
       "<matplotlib.legend.Legend at 0x103c024e0>"
      ]
     },
     "execution_count": 46,
     "metadata": {},
     "output_type": "execute_result"
    }
   ],
   "source": [
    "# Visualization 23: Distribution of Sum of Other Account Balance – conditional on marital status\n",
    "\n",
    "otheraccountsdf = pd.concat(other_accounts)\n",
    "otheraccountsdf = otheraccountsdf.to_frame()\n",
    "otheraccountsdf.columns = ['other_accounts_balance']\n",
    "\n",
    "otherMarital = otheraccountsdf.merge(df[['marital_status']], left_index=True, right_index=True)\n",
    "otherSingle = otherMarital[(otherMarital.other_accounts_balance>0) & (otherMarital.marital_status==False)]\n",
    "otherMarried = otherMarital[(otherMarital.other_accounts_balance>0) & (otherMarital.marital_status==True)]\n",
    "\n",
    "sns.distplot(otherMarried.other_accounts_balance, kde=False, label = \"Married\")\n",
    "sns.distplot(otherSingle.other_accounts_balance, kde=False, label=\"Single\")\n",
    "plt.legend()"
   ]
  },
  {
   "cell_type": "code",
   "execution_count": 47,
   "metadata": {},
   "outputs": [
    {
     "name": "stderr",
     "output_type": "stream",
     "text": [
      "/Users/looks/anaconda3/lib/python3.6/site-packages/matplotlib/cbook/deprecation.py:106: MatplotlibDeprecationWarning:\n",
      "\n",
      "Adding an axes using the same arguments as a previous axes currently reuses the earlier instance.  In a future version, a new instance will always be created and returned.  Meanwhile, this warning can be suppressed, and the future behavior ensured, by passing a unique label to each axes instance.\n",
      "\n",
      "/Users/looks/anaconda3/lib/python3.6/site-packages/numpy/core/fromnumeric.py:57: FutureWarning:\n",
      "\n",
      "reshape is deprecated and will raise in a subsequent release. Please use .values.reshape(...) instead\n",
      "\n"
     ]
    }
   ],
   "source": [
    "# Visualization 24: Distribution of Sum of Other Account Balance – conditional on age\n",
    "otherAge = otheraccountsdf.merge(df[['age']], left_index=True, right_index=True)\n",
    "otherAgeClean = otherAge[otherAge.other_accounts_balance>0]\n",
    "#sns.jointplot(x=\"age\", y=\"other_accounts_balance\", data=otherAgeClean, size = 10)\n",
    "\n",
    "\n",
    "# define age groups here\n",
    "ageGroup1 = otherAgeClean.other_accounts_balance[otherAgeClean.age<=30]\n",
    "ageGroup2 = otherAgeClean.other_accounts_balance[(otherAgeClean.age<=31) & (otherAgeClean.age<=50)]\n",
    "ageGroup3 = otherAgeClean.other_accounts_balance[(otherAgeClean.age<=51) & (otherAgeClean.age<=65)]\n",
    "ageGroup4 = otherAgeClean.other_accounts_balance[(otherAgeClean.age<=66) & (otherAgeClean.age<=80)]\n",
    "\n",
    "\n",
    "data_to_plot = [ageGroup1, ageGroup2, ageGroup3, ageGroup4]\n",
    "\n",
    "\n",
    "# Create a figure instance\n",
    "fig = plt.figure(1, figsize=(9, 6))\n",
    "\n",
    "# Create an axes instance\n",
    "ax = fig.add_subplot(111)\n",
    "\n",
    "# Create the boxplot\n",
    "bp = ax.boxplot(data_to_plot, patch_artist=True, )\n",
    "ax.set_xlabel('Age Group')\n",
    "ax.set_ylabel('Other Accounts Balance')\n",
    "ax.set_title('Sum of Other Accounts Balance by Age Group')\n",
    "ax.set_ylim([0, 200000])\n",
    "ax.set_xticklabels(['Less than 30', '31 - 50', '51 - 65', '66 - 80'])\n",
    "\n",
    "\n",
    "## change outline color, fill color and linewidth of the boxes\n",
    "for box in bp['boxes']:\n",
    "    # change outline color\n",
    "    box.set( color='#7570b3', linewidth=2)\n",
    "    # change fill color\n",
    "    box.set( facecolor = '#000080' )\n",
    "\n",
    "## change color and linewidth of the whiskers\n",
    "for whisker in bp['whiskers']:\n",
    "    whisker.set(color='#7570b3', linewidth=2)\n",
    "\n",
    "## change color and linewidth of the caps\n",
    "for cap in bp['caps']:\n",
    "    cap.set(color='#7570b3', linewidth=2)\n",
    "\n",
    "## change color and linewidth of the medians\n",
    "for median in bp['medians']:\n",
    "    median.set(color='#b2df8a', linewidth=2)\n",
    "\n",
    "## change the style of fliers and their fill\n",
    "for flier in bp['fliers']:\n",
    "    flier.set(marker='o', color='#e7298a', alpha=0.5)\n"
   ]
  },
  {
   "cell_type": "code",
   "execution_count": 48,
   "metadata": {},
   "outputs": [
    {
     "name": "stderr",
     "output_type": "stream",
     "text": [
      "/Users/looks/anaconda3/lib/python3.6/site-packages/matplotlib/cbook/deprecation.py:106: MatplotlibDeprecationWarning:\n",
      "\n",
      "Adding an axes using the same arguments as a previous axes currently reuses the earlier instance.  In a future version, a new instance will always be created and returned.  Meanwhile, this warning can be suppressed, and the future behavior ensured, by passing a unique label to each axes instance.\n",
      "\n",
      "/Users/looks/anaconda3/lib/python3.6/site-packages/numpy/core/fromnumeric.py:57: FutureWarning:\n",
      "\n",
      "reshape is deprecated and will raise in a subsequent release. Please use .values.reshape(...) instead\n",
      "\n"
     ]
    }
   ],
   "source": [
    "# Visualization 25: Distribution of Sum of Other Account Balance – conditional on salary\n",
    "otherSalary = otheraccountsdf.merge(df[['salary']], left_index=True, right_index=True)\n",
    "otherSalaryClean = otherSalary[(otherSalary.other_accounts_balance>0) & (otherSalary.salary>1000)]\n",
    "#sns.jointplot(x=\"salary\", y=\"other_accounts_balance\", data=otherSalaryClean, size = 10)\n",
    "\n",
    "# define salary groups here\n",
    "salaryGroup1 = otherSalaryClean.other_accounts_balance[otherSalaryClean.salary<=40000]\n",
    "salaryGroup2 = otherSalaryClean.other_accounts_balance[(otherSalaryClean.salary<=40001) & (otherSalaryClean.salary<=60000)]\n",
    "salaryGroup3 = otherSalaryClean.other_accounts_balance[(otherSalaryClean.salary<=60001) & (otherSalaryClean.salary<=100000)]\n",
    "salaryGroup4 = otherSalaryClean.other_accounts_balance[(otherSalaryClean.salary<=100001) & (otherSalaryClean.salary<=150000)]\n",
    "salaryGroup5 = otherSalaryClean.other_accounts_balance[(otherSalaryClean.salary<=150001) & (otherSalaryClean.salary<=300000)]\n",
    "\n",
    "\n",
    "data_to_plot = [salaryGroup1, salaryGroup2, salaryGroup3, salaryGroup4, salaryGroup5]\n",
    "\n",
    "\n",
    "# Create a figure instance\n",
    "fig = plt.figure(1, figsize=(9, 6))\n",
    "\n",
    "# Create an axes instance\n",
    "ax = fig.add_subplot(111)\n",
    "\n",
    "# Create the boxplot\n",
    "bp = ax.boxplot(data_to_plot, patch_artist=True, )\n",
    "ax.set_xlabel('Salary Group')\n",
    "ax.set_ylabel('Other Account Balance')\n",
    "ax.set_title('Sum of Other Account Balance by Salary Group')\n",
    "ax.set_ylim([0, 200000])\n",
    "ax.set_xticklabels(['Less than 40k', '40k - 60k', '60k - 100k', '100k - 150k', '150k - 300k'])\n",
    "\n",
    "\n",
    "## change outline color, fill color and linewidth of the boxes\n",
    "for box in bp['boxes']:\n",
    "    # change outline color\n",
    "    box.set( color='#7570b3', linewidth=2)\n",
    "    # change fill color\n",
    "    box.set( facecolor = '#1b9e77' )\n",
    "\n",
    "## change color and linewidth of the whiskers\n",
    "for whisker in bp['whiskers']:\n",
    "    whisker.set(color='#7570b3', linewidth=2)\n",
    "\n",
    "## change color and linewidth of the caps\n",
    "for cap in bp['caps']:\n",
    "    cap.set(color='#7570b3', linewidth=2)\n",
    "\n",
    "## change color and linewidth of the medians\n",
    "for median in bp['medians']:\n",
    "    median.set(color='#b2df8a', linewidth=2)\n",
    "\n",
    "## change the style of fliers and their fill\n",
    "for flier in bp['fliers']:\n",
    "    flier.set(marker='o', color='#e7298a', alpha=0.5)    "
   ]
  },
  {
   "cell_type": "code",
   "execution_count": 49,
   "metadata": {
    "collapsed": true
   },
   "outputs": [],
   "source": [
    "# DEPRECATED\n",
    "#def p2f(x):\n",
    "   # x = str.strip(\"%\")\n",
    "   # x str.strip(\"$\")\n",
    "   # return float(x)\n",
    "\n",
    "#preTaxContributions1 = df['pre_tax_contrib_1'].replace('[\\$,]', '', regex=True).replace('%','',regex=True).astype(float)\n",
    "#preTaxContributions1.fillna(value=0)\n",
    "#sum(preTaxContributions1>1000)"
   ]
  },
  {
   "cell_type": "code",
   "execution_count": 50,
   "metadata": {},
   "outputs": [
    {
     "name": "stderr",
     "output_type": "stream",
     "text": [
      "/Users/looks/anaconda3/lib/python3.6/site-packages/ipykernel_launcher.py:8: SettingWithCopyWarning:\n",
      "\n",
      "\n",
      "A value is trying to be set on a copy of a slice from a DataFrame.\n",
      "Try using .loc[row_indexer,col_indexer] = value instead\n",
      "\n",
      "See the caveats in the documentation: http://pandas.pydata.org/pandas-docs/stable/indexing.html#indexing-view-versus-copy\n",
      "\n"
     ]
    },
    {
     "data": {
      "text/html": [
       "<div>\n",
       "<style>\n",
       "    .dataframe thead tr:only-child th {\n",
       "        text-align: right;\n",
       "    }\n",
       "\n",
       "    .dataframe thead th {\n",
       "        text-align: left;\n",
       "    }\n",
       "\n",
       "    .dataframe tbody tr th {\n",
       "        vertical-align: top;\n",
       "    }\n",
       "</style>\n",
       "<table border=\"1\" class=\"dataframe\">\n",
       "  <thead>\n",
       "    <tr style=\"text-align: right;\">\n",
       "      <th></th>\n",
       "      <th>Total_Balance</th>\n",
       "      <th>salary</th>\n",
       "      <th>Ratio</th>\n",
       "    </tr>\n",
       "  </thead>\n",
       "  <tbody>\n",
       "    <tr>\n",
       "      <th>0.025</th>\n",
       "      <td>14634.123548</td>\n",
       "      <td>20000.0</td>\n",
       "      <td>0.229715</td>\n",
       "    </tr>\n",
       "    <tr>\n",
       "      <th>0.100</th>\n",
       "      <td>29839.874724</td>\n",
       "      <td>30000.0</td>\n",
       "      <td>0.457858</td>\n",
       "    </tr>\n",
       "    <tr>\n",
       "      <th>0.500</th>\n",
       "      <td>88256.393230</td>\n",
       "      <td>65000.0</td>\n",
       "      <td>1.503651</td>\n",
       "    </tr>\n",
       "    <tr>\n",
       "      <th>0.950</th>\n",
       "      <td>622153.793587</td>\n",
       "      <td>150000.0</td>\n",
       "      <td>9.531308</td>\n",
       "    </tr>\n",
       "  </tbody>\n",
       "</table>\n",
       "</div>"
      ],
      "text/plain": [
       "       Total_Balance    salary     Ratio\n",
       "0.025   14634.123548   20000.0  0.229715\n",
       "0.100   29839.874724   30000.0  0.457858\n",
       "0.500   88256.393230   65000.0  1.503651\n",
       "0.950  622153.793587  150000.0  9.531308"
      ]
     },
     "execution_count": 50,
     "metadata": {},
     "output_type": "execute_result"
    }
   ],
   "source": [
    "#Calculate total account balance to inform total investor wealth \n",
    "\n",
    "TotalBalanceDF = df.iloc[:,[20, 27, 34, 41, 48, 55, 62, 69, 76, 83, 90, 97]]\n",
    "TotalBalanceClean = TotalBalanceDF.replace('', np.nan).fillna(value=0)\n",
    "TotalBalanceClean['Total_Balance'] = TotalBalanceClean[list(TotalBalanceClean.columns)].sum(axis=1) \n",
    "TotalBalanceSalary = TotalBalanceClean.merge(df[['salary']], left_index=True, right_index=True)\n",
    "TotalBalanceSalaryClean = TotalBalanceSalary[(TotalBalanceSalary.Total_Balance>0) & (TotalBalanceSalary.salary>1000)]\n",
    "TotalBalanceSalaryClean['Ratio'] = TotalBalanceSalaryClean.Total_Balance / TotalBalanceSalaryClean.salary\n",
    "#TotalBalanceSalaryClean\n",
    "\n",
    "TotalBalanceSalaryQuantile = TotalBalanceSalaryClean.iloc[:,[12, 13, 14]]\n",
    "TotalBalanceSalaryQuantile.quantile([0.025,0.1,0.5,0.95])"
   ]
  },
  {
   "cell_type": "code",
   "execution_count": 78,
   "metadata": {},
   "outputs": [],
   "source": [
    "#df.iloc[:,[21, 28, 35, 42, 49, 56, 63, 70, 77, 84, 91, 98]]"
   ]
  },
  {
   "cell_type": "code",
   "execution_count": 52,
   "metadata": {
    "collapsed": true
   },
   "outputs": [],
   "source": [
    "#Sum all pre-tax contributions\n",
    "\n",
    "#Pre_Tax_Contributions = df.iloc[:,[21, 28, 35, 42, 49, 56, 63, 70, 77, 84, 91, 98]]\n",
    "#Create dataframe if $ \n",
    "#and if % append salary column to that dataframe and then multiply them to compute contributions\n",
    "#isfinite/transpose, sum by columns, and then append by user id\n",
    "df['pre_tax_contrib_clean_1'] = df['pre_tax_contrib_1'].replace('[\\$,]', '', regex=True).replace('%','',regex=True).str.strip().replace('', np.nan).fillna(value=0)\n",
    "df['pre_tax_contrib_clean_2'] = df['pre_tax_contrib_2'].replace('[\\$,]', '', regex=True).replace('%','',regex=True).str.strip().replace('', np.nan).fillna(value=0)\n",
    "df['pre_tax_contrib_clean_3'] = df['pre_tax_contrib_3'].replace('[\\$,]', '', regex=True).replace('%','',regex=True).str.strip().replace('', np.nan).fillna(value=0)\n",
    "df['pre_tax_contrib_clean_4'] = df['pre_tax_contrib_4'].replace('[\\$,]', '', regex=True).replace('%','',regex=True).str.strip().replace('', np.nan).fillna(value=0)\n",
    "df['pre_tax_contrib_clean_5'] = df['pre_tax_contrib_5'].replace('[\\$,]', '', regex=True).replace('%','',regex=True).str.strip().replace('', np.nan).fillna(value=0)\n",
    "df['pre_tax_contrib_clean_6'] = df['pre_tax_contrib_6'].replace('[\\$,]', '', regex=True).replace('%','',regex=True).str.strip().replace('', np.nan).fillna(value=0)\n",
    "df['pre_tax_contrib_clean_7'] = df['pre_tax_contrib_7'].replace('[\\$,]', '', regex=True).replace('%','',regex=True).str.strip().replace('', np.nan).fillna(value=0)\n",
    "df['pre_tax_contrib_clean_8'] = df['pre_tax_contrib_8'].replace('[\\$,]', '', regex=True).replace('%','',regex=True).str.strip().replace('', np.nan).fillna(value=0)\n",
    "#df['pre_tax_contrib_clean_9'] = df['pre_tax_contrib_9'].replace('[\\$,]', '', regex=True).replace('%','',regex=True).str.strip().replace('', np.nan).fillna(value=0)\n",
    "#df['pre_tax_contrib_clean_10'] = df['pre_tax_contrib_10'].replace('[\\$,]', '', regex=True).replace('%','',regex=True).str.strip().replace('', np.nan).fillna(value=0)\n",
    "#df['pre_tax_contrib_clean_11'] = df['pre_tax_contrib_11'].replace('[\\$,]', '', regex=True).replace('%','',regex=True).str.strip().replace('', np.nan).fillna(value=0)\n",
    "#df['pre_tax_contrib_clean_12'] = df['pre_tax_contrib_12'].replace('[\\$,]', '', regex=True).replace('%','',regex=True).str.strip().replace('', np.nan).fillna(value=0)\n",
    "\n",
    "\n",
    "df['Pre_Tax_Contributions_Total']= df['pre_tax_contrib_clean_1'].astype(float) + df['pre_tax_contrib_clean_2'].astype(float) + df['pre_tax_contrib_clean_3'].astype(float) + df['pre_tax_contrib_clean_4'].astype(float) + df['pre_tax_contrib_clean_5'].astype(float) + df['pre_tax_contrib_clean_6'].astype(float) + df['pre_tax_contrib_clean_7'].astype(float) + df['pre_tax_contrib_clean_8'].astype(float) #+ df['pre_tax_contrib_clean_9'].astype(float) + df['pre_tax_contrib_clean_10'].astype(float) + df['pre_tax_contrib_clean_11'].astype(float)\n",
    "#df['Pre_Tax_Contributions_Total']= df.iloc[:,[21, 28]].sum()\n",
    "#print(df['Pre_Tax_Contributions_Total'])"
   ]
  },
  {
   "cell_type": "code",
   "execution_count": 53,
   "metadata": {
    "collapsed": true
   },
   "outputs": [],
   "source": [
    "#Calculate roth contributions\n",
    "\n",
    "df['roth_contrib_clean_1'] = df['roth_contrib_1'].replace('[\\$,]', '', regex=True).replace('%','',regex=True).str.strip().replace('', np.nan).fillna(value=0)\n",
    "df['roth_contrib_clean_2'] = df['roth_contrib_2'].replace('[\\$,]', '', regex=True).replace('%','',regex=True).str.strip().replace('', np.nan).fillna(value=0)\n",
    "df['roth_contrib_clean_3'] = df['roth_contrib_3'].replace('[\\$,]', '', regex=True).replace('%','',regex=True).str.strip().replace('', np.nan).fillna(value=0)\n",
    "df['roth_contrib_clean_4'] = df['roth_contrib_4'].replace('[\\$,]', '', regex=True).replace('%','',regex=True).str.strip().replace('', np.nan).fillna(value=0)\n",
    "df['roth_contrib_clean_5'] = df['roth_contrib_5'].replace('[\\$,]', '', regex=True).replace('%','',regex=True).str.strip().replace('', np.nan).fillna(value=0)\n",
    "df['roth_contrib_clean_6'] = df['roth_contrib_6'].replace('[\\$,]', '', regex=True).replace('%','',regex=True).str.strip().replace('', np.nan).fillna(value=0)\n",
    "df['roth_contrib_clean_7'] = df['roth_contrib_7'].replace('[\\$,]', '', regex=True).replace('%','',regex=True).str.strip().replace('', np.nan).fillna(value=0)\n",
    "df['roth_contrib_clean_8'] = df['roth_contrib_8'].replace('[\\$,]', '', regex=True).replace('%','',regex=True).str.strip().replace('', np.nan).fillna(value=0)\n",
    "\n",
    "df['Roth_Contributions_Total']= df['roth_contrib_clean_1'].astype(float) + df['roth_contrib_clean_2'].astype(float) + df['roth_contrib_clean_3'].astype(float) + df['roth_contrib_clean_4'].astype(float) + df['roth_contrib_clean_5'].astype(float) + df['roth_contrib_clean_6'].astype(float) + df['roth_contrib_clean_7'].astype(float) + df['roth_contrib_clean_8'].astype(float) #+ df['pre_tax_contrib_clean_9'].astype(float) + df['pre_tax_contrib_clean_10'].astype(float) + df['pre_tax_contrib_clean_11'].astype(float)\n",
    "#print(df['Roth_Contributions_Total'])"
   ]
  },
  {
   "cell_type": "code",
   "execution_count": 54,
   "metadata": {
    "collapsed": true
   },
   "outputs": [],
   "source": [
    "#Calculate post-tax contributions\n",
    "#Unused because there are only non-zero 6 instances \n",
    "df['post_tax_contrib_clean_1'] = df['post_tax_contrib_1'].replace('[\\$,]', '', regex=True).replace('%','',regex=True).str.strip().replace('', np.nan).fillna(value=0)\n",
    "df['post_tax_contrib_clean_2'] = df['post_tax_contrib_2'].replace('[\\$,]', '', regex=True).replace('%','',regex=True).str.strip().replace('', np.nan).fillna(value=0)\n",
    "df['post_tax_contrib_clean_3'] = df['post_tax_contrib_3'].replace('[\\$,]', '', regex=True).replace('%','',regex=True).str.strip().replace('', np.nan).fillna(value=0)\n",
    "df['post_tax_contrib_clean_4'] = df['post_tax_contrib_4'].replace('[\\$,]', '', regex=True).replace('%','',regex=True).str.strip().replace('', np.nan).fillna(value=0)\n",
    "df['post_tax_contrib_clean_5'] = df['post_tax_contrib_5'].replace('[\\$,]', '', regex=True).replace('%','',regex=True).str.strip().replace('', np.nan).fillna(value=0)\n",
    "#df['post_tax_contrib_clean_6'] = df['post_tax_contrib_6'].replace('[\\$,]', '', regex=True).replace('%','',regex=True).str.strip().replace('', np.nan).fillna(value=0)\n",
    "#df['post_tax_contrib_clean_7'] = df['post_tax_contrib_7'].replace('[\\$,]', '', regex=True).replace('%','',regex=True).str.strip().replace('', np.nan).fillna(value=0)\n",
    "#df['post_tax_contrib_clean_8'] = df['post_tax_contrib_8'].replace('[\\$,]', '', regex=True).replace('%','',regex=True).str.strip().replace('', np.nan).fillna(value=0)\n",
    "\n",
    "df['Post_Tax_Contributions_Total']= df['post_tax_contrib_clean_1'].astype(float) + df['post_tax_contrib_clean_2'].astype(float) + df['post_tax_contrib_clean_3'].astype(float) + df['post_tax_contrib_clean_4'].astype(float) + df['post_tax_contrib_clean_5'].astype(float) "
   ]
  },
  {
   "cell_type": "code",
   "execution_count": 55,
   "metadata": {
    "collapsed": true
   },
   "outputs": [],
   "source": [
    "#Calculate taxable contributions\n",
    "\n",
    "df['taxable_contrib_clean_1'] = df['taxable_contrib_1'].replace('[\\$,]', '', regex=True).replace('%','',regex=True).replace('', np.nan).fillna(value=0)\n",
    "df['taxable_contrib_clean_2'] = df['taxable_contrib_2'].replace('[\\$,]', '', regex=True).replace('%','',regex=True).str.strip().replace('', np.nan).fillna(value=0)\n",
    "df['taxable_contrib_clean_3'] = df['taxable_contrib_3'].replace('[\\$,]', '', regex=True).replace('%','',regex=True).str.strip().replace('', np.nan).fillna(value=0)\n",
    "df['taxable_contrib_clean_4'] = df['taxable_contrib_4'].replace('[\\$,]', '', regex=True).replace('%','',regex=True).str.strip().replace('', np.nan).fillna(value=0)\n",
    "df['taxable_contrib_clean_5'] = df['taxable_contrib_5'].replace('[\\$,]', '', regex=True).replace('%','',regex=True).str.strip().replace('', np.nan).fillna(value=0)\n",
    "df['taxable_contrib_clean_6'] = df['taxable_contrib_6'].replace('[\\$,]', '', regex=True).replace('%','',regex=True).str.strip().replace('', np.nan).fillna(value=0)\n",
    "df['taxable_contrib_clean_7'] = df['taxable_contrib_7'].replace('[\\$,]', '', regex=True).replace('%','',regex=True).str.strip().replace('', np.nan).fillna(value=0)\n",
    "df['taxable_contrib_clean_8'] = df['taxable_contrib_8'].replace('[\\$,]', '', regex=True).replace('%','',regex=True).str.strip().replace('', np.nan).fillna(value=0)\n",
    "\n",
    "df['Taxable_Contributions_Total']= df['taxable_contrib_clean_1'].astype(float) + df['taxable_contrib_clean_2'].astype(float) + df['taxable_contrib_clean_3'].astype(float) + df['taxable_contrib_clean_4'].astype(float) + df['taxable_contrib_clean_5'].astype(float) + df['taxable_contrib_clean_6'].astype(float) + df['taxable_contrib_clean_7'].astype(float) + df['taxable_contrib_clean_8'].astype(float) \n",
    "#print(sum(df['Taxable_Contributions_Total']>0))"
   ]
  },
  {
   "cell_type": "code",
   "execution_count": 56,
   "metadata": {
    "collapsed": true
   },
   "outputs": [],
   "source": [
    "#Sum of Roth and pre-tax contributions\n",
    "df['IRA_Contributions_Total'] = df['Roth_Contributions_Total'] + df['Pre_Tax_Contributions_Total']"
   ]
  },
  {
   "cell_type": "code",
   "execution_count": 57,
   "metadata": {
    "scrolled": true
   },
   "outputs": [
    {
     "name": "stderr",
     "output_type": "stream",
     "text": [
      "/Users/looks/anaconda3/lib/python3.6/site-packages/ipykernel_launcher.py:8: SettingWithCopyWarning:\n",
      "\n",
      "\n",
      "A value is trying to be set on a copy of a slice from a DataFrame.\n",
      "Try using .loc[row_indexer,col_indexer] = value instead\n",
      "\n",
      "See the caveats in the documentation: http://pandas.pydata.org/pandas-docs/stable/indexing.html#indexing-view-versus-copy\n",
      "\n"
     ]
    },
    {
     "data": {
      "text/html": [
       "<div>\n",
       "<style>\n",
       "    .dataframe thead tr:only-child th {\n",
       "        text-align: right;\n",
       "    }\n",
       "\n",
       "    .dataframe thead th {\n",
       "        text-align: left;\n",
       "    }\n",
       "\n",
       "    .dataframe tbody tr th {\n",
       "        vertical-align: top;\n",
       "    }\n",
       "</style>\n",
       "<table border=\"1\" class=\"dataframe\">\n",
       "  <thead>\n",
       "    <tr style=\"text-align: right;\">\n",
       "      <th></th>\n",
       "      <th>ira_balance</th>\n",
       "      <th>salary</th>\n",
       "      <th>IRA_Contributions_Total</th>\n",
       "      <th>ratio</th>\n",
       "    </tr>\n",
       "  </thead>\n",
       "  <tbody>\n",
       "    <tr>\n",
       "      <th>0.20</th>\n",
       "      <td>21410.88717</td>\n",
       "      <td>43000.0</td>\n",
       "      <td>0.0</td>\n",
       "      <td>0.313719</td>\n",
       "    </tr>\n",
       "    <tr>\n",
       "      <th>0.70</th>\n",
       "      <td>113388.91740</td>\n",
       "      <td>88000.0</td>\n",
       "      <td>480.0</td>\n",
       "      <td>1.859098</td>\n",
       "    </tr>\n",
       "    <tr>\n",
       "      <th>0.80</th>\n",
       "      <td>172310.30570</td>\n",
       "      <td>100000.0</td>\n",
       "      <td>3200.0</td>\n",
       "      <td>2.669464</td>\n",
       "    </tr>\n",
       "    <tr>\n",
       "      <th>0.90</th>\n",
       "      <td>292865.31170</td>\n",
       "      <td>127500.0</td>\n",
       "      <td>6000.0</td>\n",
       "      <td>4.423006</td>\n",
       "    </tr>\n",
       "    <tr>\n",
       "      <th>0.95</th>\n",
       "      <td>420629.24900</td>\n",
       "      <td>150000.0</td>\n",
       "      <td>11260.0</td>\n",
       "      <td>6.457150</td>\n",
       "    </tr>\n",
       "  </tbody>\n",
       "</table>\n",
       "</div>"
      ],
      "text/plain": [
       "       ira_balance    salary  IRA_Contributions_Total     ratio\n",
       "0.20   21410.88717   43000.0                      0.0  0.313719\n",
       "0.70  113388.91740   88000.0                    480.0  1.859098\n",
       "0.80  172310.30570  100000.0                   3200.0  2.669464\n",
       "0.90  292865.31170  127500.0                   6000.0  4.423006\n",
       "0.95  420629.24900  150000.0                  11260.0  6.457150"
      ]
     },
     "execution_count": 57,
     "metadata": {},
     "output_type": "execute_result"
    }
   ],
   "source": [
    "#AVandContributions = df.iloc[]\n",
    "\n",
    "# define salary groups here\n",
    "AVandContributions = iraSalary.merge(df[['IRA_Contributions_Total']], left_index=True, right_index=True)\n",
    "AVandContributionsClean = AVandContributions[(AVandContributions.ira_balance>0) & (AVandContributions.salary>1000)]\n",
    "\n",
    "#Calculate ratio of IRA account balance over salary\n",
    "AVandContributionsClean['ratio'] = AVandContributionsClean['ira_balance']/AVandContributionsClean['salary'] \n",
    "\n",
    "#Calculate quantile\n",
    "AVandContributionsClean.quantile([0.2,0.7, 0.8,0.9,0.95])"
   ]
  },
  {
   "cell_type": "code",
   "execution_count": 71,
   "metadata": {},
   "outputs": [],
   "source": [
    "## DEPRECATED\n",
    "#Calculate weights for Account Balace and Contributions\n",
    "\n",
    "#CountAVandContributions = AVandContributionsClean.salary.count()\n",
    "\n",
    "##Ratio is <= 0.55 and Contributions <= $1000\n",
    "#WeightLowAccValueLowContributions = sum((AVandContributionsClean.ratio<=0.55) & (AVandContributionsClean.IRA_Contributions_Total<=1000))/CountAVandContributions\n",
    "#print(WeightLowAccValueLowContributions)\n",
    "\n",
    "#Ratio is <=0.55 and Contributions are >$1000\n",
    "#WeightLowAccValueHighContributions = sum((AVandContributionsClean.ratio<=0.55) & (AVandContributionsClean.IRA_Contributions_Total>1000))/CountAVandContributions\n",
    "#print(WeightLowAccValueHighContributions)\n",
    "\n",
    "#Ratio is >3 and Contributions are >$1000\n",
    "#WeightHighAccValueHighContributions = sum((AVandContributionsClean.ratio>3.5) & (AVandContributionsClean.IRA_Contributions_Total>1000))/CountAVandContributions\n",
    "#print(WeightHighAccValueHighContributions)\n",
    "\n",
    "#Ratio is >3 and Contributions are <= $1000\n",
    "#WeightHighAccValueLowContributions = sum((AVandContributionsClean.ratio>3.5) & (AVandContributionsClean.IRA_Contributions_Total<=1000))/CountAVandContributions\n",
    "#print(WeightHighAccValueLowContributions)\n",
    "\n",
    "#Middle AV and Middle Contributions is everything else\n",
    "#WeightMiddleAccValueMiddleContributions = (1 - WeightLowAccValueLowContributions - WeightLowAccValueHighContributions -\n",
    "                          #                 WeightHighAccValueHighContributions - WeightHighAccValueLowContributions)\n",
    "\n",
    "#print (tabulate([[\"Low AV and Low Contributions\",WeightLowAccValueLowContributions ], [\"Low AV and High Contributions\", WeightLowAccValueHighContributions],\n",
    " #                [\"Middle AV and Middle Contributions\", WeightMiddleAccValueMiddleContributions],\n",
    "  #             [\"High AV and High Contributions\", WeightHighAccValueHighContributions], [\"High AV and Low Contributions\", WeightHighAccValueLowContributions]], \n",
    "   #      headers=['Category', 'Weight']))"
   ]
  },
  {
   "cell_type": "code",
   "execution_count": 72,
   "metadata": {},
   "outputs": [
    {
     "name": "stdout",
     "output_type": "stream",
     "text": [
      "Low AV and Low Contributions       Weight\n",
      "------------------------------  ---------\n",
      "Very Young Age                  0.0924025\n",
      "Young Age                       0.0677618\n",
      "Middle Age                      0.0746064\n",
      "Old Age                         0.0924025\n",
      "Check is equal to 1.3877787807814457e-17\n"
     ]
    },
    {
     "name": "stderr",
     "output_type": "stream",
     "text": [
      "/Users/looks/anaconda3/lib/python3.6/site-packages/ipykernel_launcher.py:9: SettingWithCopyWarning:\n",
      "\n",
      "\n",
      "A value is trying to be set on a copy of a slice from a DataFrame.\n",
      "Try using .loc[row_indexer,col_indexer] = value instead\n",
      "\n",
      "See the caveats in the documentation: http://pandas.pydata.org/pandas-docs/stable/indexing.html#indexing-view-versus-copy\n",
      "\n"
     ]
    }
   ],
   "source": [
    "### Check Contribution for Middle Age -> Should we vary between $1000 and not $1000 like $1000 and >$2500\n",
    "\n",
    "#Calculate revised weights for Account Balace and Contributions that vary by age group\n",
    "AVandContributions = iraSalary.merge(df[['IRA_Contributions_Total']], left_index=True, right_index=True)\n",
    "AVandContributions = AVandContributions.merge(df[['age']], left_index=True, right_index=True)\n",
    "AVandContributionsClean = AVandContributions[(AVandContributions.ira_balance>0) & (AVandContributions.salary>1000)]\n",
    "\n",
    "#Calculate ratio of IRA account balance over salary\n",
    "AVandContributionsClean['ratio'] = AVandContributionsClean['ira_balance']/AVandContributionsClean['salary'] \n",
    "\n",
    "#Calculate count of investors\n",
    "CountAVandContributions = AVandContributionsClean.salary.count()\n",
    "\n",
    "#Low Account Value and Low Contributions Weights by Age\n",
    "#Ratio is <= 0.95 and Contributions <= $1000\n",
    "WeightLowAccValueLowContributions = sum((AVandContributionsClean.ratio<=0.95) \n",
    "                                        & (AVandContributionsClean.IRA_Contributions_Total<=1000))/CountAVandContributions\n",
    "\n",
    "WeightLowAccValLowCtrbsVeryYoungAge = sum((AVandContributionsClean.ratio<=0.95) \n",
    "                                      & (AVandContributionsClean.IRA_Contributions_Total<=1000) \n",
    "                                      & (AVandContributionsClean.age<=40))/CountAVandContributions\n",
    "WeightLowAccValLowCtrbsYoungAge = sum((AVandContributionsClean.ratio<=0.95) \n",
    "                                       & (AVandContributionsClean.IRA_Contributions_Total<=1000) \n",
    "                                       & (AVandContributionsClean.age>40) & (AVandContributionsClean.age<=50))/CountAVandContributions\n",
    "WeightLowAccValLowCtrbsMiddleAge = sum((AVandContributionsClean.ratio<=0.95) \n",
    "                                    & (AVandContributionsClean.IRA_Contributions_Total<=1000) \n",
    "                                    & (AVandContributionsClean.age>50) & (AVandContributionsClean.age<=60))/CountAVandContributions\n",
    "WeightLowAccValLowCtrbsOldAge = sum((AVandContributionsClean.ratio<=0.95) \n",
    "                                        & (AVandContributionsClean.IRA_Contributions_Total<=1000) \n",
    "                                        & (AVandContributionsClean.age>60))/CountAVandContributions\n",
    "\n",
    "print (tabulate([[\"Very Young Age\",WeightLowAccValLowCtrbsVeryYoungAge ], [\"Young Age\", WeightLowAccValLowCtrbsYoungAge],\n",
    "                 [\"Middle Age\", WeightLowAccValLowCtrbsMiddleAge],\n",
    "               [\"Old Age\", WeightLowAccValLowCtrbsOldAge]], \n",
    "         headers=['Low AV and Low Contributions', 'Weight']))\n",
    "\n",
    "Check = (WeightLowAccValueLowContributions - WeightLowAccValLowCtrbsVeryYoungAge - WeightLowAccValLowCtrbsYoungAge - \n",
    "         WeightLowAccValLowCtrbsMiddleAge - WeightLowAccValLowCtrbsOldAge)\n",
    "\n",
    "print(\"Check is equal to {}\".format(Check))"
   ]
  },
  {
   "cell_type": "code",
   "execution_count": 73,
   "metadata": {},
   "outputs": [
    {
     "name": "stdout",
     "output_type": "stream",
     "text": [
      "Low AV and High Contributions       Weight\n",
      "-------------------------------  ---------\n",
      "Very Young Age                   0.0677618\n",
      "Young Age                        0.0451745\n",
      "Middle Age                       0.0479124\n",
      "Old Age                          0.0219028\n",
      "Check is equal to -1.734723475976807e-17\n"
     ]
    }
   ],
   "source": [
    "#Low Account Value and High Contributions\n",
    "#Ratio is <=0.95 and Contributions are >$1000\n",
    "WeightLowAccValueHighContributions = sum((AVandContributionsClean.ratio<=0.95) \n",
    "                                         & (AVandContributionsClean.IRA_Contributions_Total>1000))/CountAVandContributions\n",
    "\n",
    "WeightLowAccValHighCtrbsVeryYoungAge = sum((AVandContributionsClean.ratio<=0.95) \n",
    "                                       & (AVandContributionsClean.IRA_Contributions_Total>1000) \n",
    "                                       & (AVandContributionsClean.age<=40))/CountAVandContributions\n",
    "WeightLowAccValHighCtrbsYoungAge = sum((AVandContributionsClean.ratio<=0.95) \n",
    "                                        & (AVandContributionsClean.IRA_Contributions_Total>1000) \n",
    "                                        & (AVandContributionsClean.age>40) & (AVandContributionsClean.age<=50))/CountAVandContributions\n",
    "WeightLowAccValHighCtrbsMiddleAge = sum((AVandContributionsClean.ratio<=0.95) \n",
    "                                     & (AVandContributionsClean.IRA_Contributions_Total>1000) \n",
    "                                     & (AVandContributionsClean.age>50) & (AVandContributionsClean.age<=60))/CountAVandContributions\n",
    "WeightLowAccValHighCtrbsOldAge = sum((AVandContributionsClean.ratio<=0.95) \n",
    "                                         & (AVandContributionsClean.IRA_Contributions_Total>1000) \n",
    "                                         & (AVandContributionsClean.age>60))/CountAVandContributions\n",
    "\n",
    "print (tabulate([[\"Very Young Age\",WeightLowAccValHighCtrbsVeryYoungAge ], [\"Young Age\", WeightLowAccValHighCtrbsYoungAge],\n",
    "                 [\"Middle Age\", WeightLowAccValHighCtrbsMiddleAge],\n",
    "               [\"Old Age\", WeightLowAccValHighCtrbsOldAge]], \n",
    "         headers=['Low AV and High Contributions', 'Weight']))\n",
    "\n",
    "Check = (WeightLowAccValueHighContributions - WeightLowAccValHighCtrbsVeryYoungAge - WeightLowAccValHighCtrbsYoungAge - \n",
    "         WeightLowAccValHighCtrbsMiddleAge - WeightLowAccValHighCtrbsOldAge)\n",
    "\n",
    "print(\"Check is equal to {}\".format(Check))"
   ]
  },
  {
   "cell_type": "code",
   "execution_count": 74,
   "metadata": {},
   "outputs": [
    {
     "name": "stdout",
     "output_type": "stream",
     "text": [
      "High AV and High Contributions        Weight\n",
      "--------------------------------  ----------\n",
      "Very Young Age                    0\n",
      "Young Age                         0.00136893\n",
      "Middle Age                        0.00273785\n",
      "Old Age                           0.00479124\n",
      "Check is equal to 8.673617379884035e-19\n"
     ]
    }
   ],
   "source": [
    "#High Account Value and High Contributions\n",
    "#Ratio is >4.75 and Contributions are >$1000\n",
    "WeightHighAccValueHighContributions = sum((AVandContributionsClean.ratio>4.75) \n",
    "                                          & (AVandContributionsClean.IRA_Contributions_Total>1000))/CountAVandContributions\n",
    "\n",
    "WeightHighAccValHighCtrbsVeryYoungAge = sum((AVandContributionsClean.ratio>4.75) \n",
    "                                        & (AVandContributionsClean.IRA_Contributions_Total>1000) \n",
    "                                        & (AVandContributionsClean.age<=40))/CountAVandContributions\n",
    "WeightHighAccValHighCtrbsYoungAge = sum((AVandContributionsClean.ratio>4.75) \n",
    "                                         & (AVandContributionsClean.IRA_Contributions_Total>1000) \n",
    "                                         & (AVandContributionsClean.age>40) \n",
    "                                         & (AVandContributionsClean.age<=50))/CountAVandContributions\n",
    "WeightHighAccValHighCtrbsMiddleAge = sum((AVandContributionsClean.ratio>4.75) \n",
    "                                      & (AVandContributionsClean.IRA_Contributions_Total>1000) \n",
    "                                      & (AVandContributionsClean.age>50) \n",
    "                                      & (AVandContributionsClean.age<=60))/CountAVandContributions\n",
    "WeightHighAccValHighCtrbsOldAge = sum((AVandContributionsClean.ratio>4.75) \n",
    "                                          & (AVandContributionsClean.IRA_Contributions_Total>1000) \n",
    "                                          & (AVandContributionsClean.age>60))/CountAVandContributions\n",
    "\n",
    "print (tabulate([[\"Very Young Age\",WeightHighAccValHighCtrbsVeryYoungAge ], [\"Young Age\", WeightHighAccValHighCtrbsYoungAge],\n",
    "                 [\"Middle Age\", WeightHighAccValHighCtrbsMiddleAge],\n",
    "               [\"Old Age\", WeightHighAccValHighCtrbsOldAge]], \n",
    "         headers=['High AV and High Contributions', 'Weight']))\n",
    "\n",
    "Check = (WeightHighAccValueHighContributions - WeightHighAccValHighCtrbsVeryYoungAge - WeightHighAccValHighCtrbsYoungAge - \n",
    "         WeightHighAccValHighCtrbsMiddleAge - WeightHighAccValHighCtrbsOldAge)\n",
    "\n",
    "print(\"Check is equal to {}\".format(Check))"
   ]
  },
  {
   "cell_type": "code",
   "execution_count": 75,
   "metadata": {},
   "outputs": [
    {
     "name": "stdout",
     "output_type": "stream",
     "text": [
      "High AV and Low Contributions        Weight\n",
      "-------------------------------  ----------\n",
      "Very Young Age                   0.00205339\n",
      "Young Age                        0.00205339\n",
      "Middle Age                       0.0164271\n",
      "Old Age                          0.0561259\n",
      "Check is equal to -1.3877787807814457e-17\n"
     ]
    }
   ],
   "source": [
    "#High Account Value and Low Contributions\n",
    "#Ratio is >4.75 and Contributions are <= $1000\n",
    "WeightHighAccValueLowContributions = sum((AVandContributionsClean.ratio>4.75) \n",
    "                                         & (AVandContributionsClean.IRA_Contributions_Total<=1000))/CountAVandContributions\n",
    "\n",
    "WeightHighAccValLowCtrbsVeryYoungAge = sum((AVandContributionsClean.ratio>4.75) \n",
    "                                       & (AVandContributionsClean.IRA_Contributions_Total<=1000) \n",
    "                                       & (AVandContributionsClean.age<=40))/CountAVandContributions\n",
    "WeightHighAccValLowCtrbsYoungAge = sum((AVandContributionsClean.ratio>4.75) \n",
    "                                        & (AVandContributionsClean.IRA_Contributions_Total<=1000) \n",
    "                                        & (AVandContributionsClean.age>40) \n",
    "                                        & (AVandContributionsClean.age<=50))/CountAVandContributions\n",
    "WeightHighAccValLowCtrbsMiddleAge = sum((AVandContributionsClean.ratio>4.75) \n",
    "                                     & (AVandContributionsClean.IRA_Contributions_Total<=1000) \n",
    "                                     & (AVandContributionsClean.age>50) \n",
    "                                     & (AVandContributionsClean.age<=60))/CountAVandContributions\n",
    "WeightHighAccValLowCtrbsOldAge = sum((AVandContributionsClean.ratio>4.75) \n",
    "                                         & (AVandContributionsClean.IRA_Contributions_Total<=1000) \n",
    "                                         & (AVandContributionsClean.age>60))/CountAVandContributions\n",
    "\n",
    "print (tabulate([[\"Very Young Age\",WeightHighAccValLowCtrbsVeryYoungAge ], [\"Young Age\", WeightHighAccValLowCtrbsYoungAge],\n",
    "                 [\"Middle Age\", WeightHighAccValLowCtrbsMiddleAge],\n",
    "               [\"Old Age\", WeightHighAccValLowCtrbsOldAge]], \n",
    "         headers=['High AV and Low Contributions', 'Weight']))\n",
    "\n",
    "Check = (WeightHighAccValueLowContributions - WeightHighAccValLowCtrbsVeryYoungAge - WeightHighAccValLowCtrbsYoungAge - \n",
    "         WeightHighAccValLowCtrbsMiddleAge - WeightHighAccValLowCtrbsOldAge)\n",
    "\n",
    "print(\"Check is equal to {}\".format(Check))"
   ]
  },
  {
   "cell_type": "code",
   "execution_count": 77,
   "metadata": {},
   "outputs": [
    {
     "name": "stdout",
     "output_type": "stream",
     "text": [
      "Middle AV and Middle Contributions       Weight\n",
      "------------------------------------  ---------\n",
      "Very Young Age                        0.0314853\n",
      "Young Age                             0.0663929\n",
      "Middle Age                            0.126626\n",
      "Old Age                               0.180014\n",
      "Check is equal to 2.7755575615628914e-17\n"
     ]
    }
   ],
   "source": [
    "#Middle AV and Middle Contributions is everything else\n",
    "#Ratio is between 4.75 and 0.95 \n",
    "WeightMiddleAccValueMiddleContributions = (1 - WeightLowAccValueLowContributions - WeightLowAccValueHighContributions -\n",
    "                                           WeightHighAccValueHighContributions - WeightHighAccValueLowContributions)\n",
    "\n",
    "WeightMidAccValMidCtrbsVeryYoungAge = sum((AVandContributionsClean.ratio<=4.75) & (AVandContributionsClean.ratio > 0.95) \n",
    "                                      & (AVandContributionsClean.age<=40))/CountAVandContributions\n",
    "WeightMidAccValMidCtrbsYoungAge = sum((AVandContributionsClean.ratio<=4.75)& (AVandContributionsClean.ratio > 0.95)\n",
    "                                       & (AVandContributionsClean.age>40) \n",
    "                                       & (AVandContributionsClean.age<=50))/CountAVandContributions\n",
    "WeightMidAccValMidCtrbsMiddleAge = sum((AVandContributionsClean.ratio<=4.75) & (AVandContributionsClean.ratio > 0.95)\n",
    "                                    & (AVandContributionsClean.age>50) \n",
    "                                    & (AVandContributionsClean.age<=60))/CountAVandContributions\n",
    "WeightMidAccValMidCtrbsOldAge = sum((AVandContributionsClean.ratio<=4.75) & (AVandContributionsClean.ratio > 0.95)\n",
    "                                        & (AVandContributionsClean.age>60))/CountAVandContributions\n",
    "\n",
    "print (tabulate([[\"Very Young Age\",WeightMidAccValMidCtrbsVeryYoungAge ], [\"Young Age\", WeightMidAccValMidCtrbsYoungAge],\n",
    "                 [\"Middle Age\", WeightMidAccValMidCtrbsMiddleAge],\n",
    "               [\"Old Age\", WeightMidAccValMidCtrbsOldAge]], \n",
    "         headers=['Middle AV and Middle Contributions', 'Weight']))\n",
    "\n",
    "Check = (WeightMiddleAccValueMiddleContributions - WeightMidAccValMidCtrbsVeryYoungAge - WeightMidAccValMidCtrbsYoungAge - \n",
    "         WeightMidAccValMidCtrbsMiddleAge - WeightMidAccValMidCtrbsOldAge)\n",
    "\n",
    "print(\"Check is equal to {}\".format(Check))"
   ]
  },
  {
   "cell_type": "code",
   "execution_count": null,
   "metadata": {
    "collapsed": true
   },
   "outputs": [],
   "source": []
  }
 ],
 "metadata": {
  "kernelspec": {
   "display_name": "Python 3",
   "language": "python",
   "name": "python3"
  },
  "language_info": {
   "codemirror_mode": {
    "name": "ipython",
    "version": 3
   },
   "file_extension": ".py",
   "mimetype": "text/x-python",
   "name": "python",
   "nbconvert_exporter": "python",
   "pygments_lexer": "ipython3",
   "version": "3.6.3"
  }
 },
 "nbformat": 4,
 "nbformat_minor": 2
}
